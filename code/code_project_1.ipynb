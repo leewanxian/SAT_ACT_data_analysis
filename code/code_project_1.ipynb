{
 "cells": [
  {
   "cell_type": "markdown",
   "metadata": {},
   "source": [
    "<img src=\"http://imgur.com/1ZcRyrc.png\" style=\"float: left; margin: 20px; height: 55px\">\n",
    "\n",
    "# Project 1: SAT & ACT Data Analysis\n",
    "---\n",
    "Author: Lee Wan Xian"
   ]
  },
  {
   "cell_type": "markdown",
   "metadata": {
    "tags": []
   },
   "source": [
    "## Problem Statement"
   ]
  },
  {
   "cell_type": "markdown",
   "metadata": {},
   "source": [
    "A college based in United States (US) is accessing the need to make SAT & ACT compulsory for college admissions. We are hired by the college admission board to assess how relevant SAT & ACT scores are in predicting students' ability to cope with the college curriculum & continue on to their sophomore year. As the college has multiple campuses across the country, the board is also interested to know whether poorer states are less likely to take up the standardized test, as compared to wealthier states."
   ]
  },
  {
   "cell_type": "markdown",
   "metadata": {
    "tags": []
   },
   "source": [
    "## Contents:\n",
    "- [Background](#Background)\n",
    "- [Data Import & Cleaning](#Data-Import-and-Cleaning)\n",
    "- [Exploratory Data Analysis](#Exploratory-Data-Analysis)\n",
    "- [Conclusions and Recommendations](#Conclusions-and-Recommendations)"
   ]
  },
  {
   "cell_type": "markdown",
   "metadata": {
    "tags": []
   },
   "source": [
    "## Background"
   ]
  },
  {
   "cell_type": "markdown",
   "metadata": {
    "tags": []
   },
   "source": [
    "The SAT and ACT are standardized tests that many colleges and universities in the United States require for their admissions process. This score is used along with other materials such as grade point average (GPA) and essay responses to determine whether or not a potential student will be accepted to the university.\n",
    "\n",
    "The SAT has two sections of the test: Evidence-Based Reading and Writing and Math ([*source*](https://www.princetonreview.com/college/sat-sections)). The ACT has 4 sections: English, Mathematics, Reading, and Science, with an additional optional writing section ([*source*](https://www.act.org/content/act/en/products-and-services/the-act/scores/understanding-your-scores.html)). They have different score ranges, which you can read more about on their websites or additional outside sources (a quick Google search will help you understand the scores for each test):\n",
    "* [SAT](https://collegereadiness.collegeboard.org/sat)\n",
    "* [ACT](https://www.act.org/content/act/en.html)\n",
    "\n",
    "Standardized tests have long been a controversial topic for students, administrators, and legislators. Since the 1940's, an increasing number of colleges have been using scores from students' performances on tests like the SAT and the ACT as a measure for college readiness and aptitude ([*source*](https://www.minotdailynews.com/news/local-news/2017/04/a-brief-history-of-the-sat-and-act/)). Supporters of these tests argue that these scores can be used as an objective measure to determine college admittance. Opponents of these tests claim that these tests are not accurate measures of students potential or ability and serve as an inequitable barrier to entry. Lately, more and more schools are opting to drop the SAT/ACT requirement for their Fall 2021 applications ([*read more about this here*](https://www.cnn.com/2020/04/14/us/coronavirus-colleges-sat-act-test-trnd/index.html)).\n",
    "\n",
    "During COVID-19 pandemic, more colleges have taken steps to change their admission requirements on regards to SAT & ACT. As shared from [source](https://www.washingtonpost.com/business/why-us-colleges-are-rethinking-standardized-tests/2022/03/14/81c7fd9a-a3a0-11ec-8628-3da4fa8f8714_story.html), only 50% of colleges still consider SAT & ACT test as an important admission criteria, as compared to 60% a decade ago.\n",
    "\n",
    "* A college is accessing the need to make SAT & ACT compulsory for college admissions.\n",
    "\n",
    "* As data consultants to a college admission board, we are tasked to analyse the relationship between SAT & ACT Test scores and the retention rate of freshman year students. Our analysis is done at the state level (including District of Columbia which is the capital). In addition, we will analyse the likelihood of poorer states participating in the standardized tests, as compared to wealthier states.\n",
    "\n",
    "### Assumptions made\n",
    "\n",
    "- The retention rate of freshman year students at state level will be taken as the average retention rate of freshman year students across all college in the same state. This is assuming that there are no other factors specific to the colleges that could affect the retention rate.\n",
    "- 416 colleges is a good sample size to infer the percentage of all colleges in US that mandates SAT or ACT scores as a admission criteria. *Ranges of Accepted ACT & SAT Student Scores by Colleges* dataset contains a good mix of colleges across different states.\n",
    "- Average SAT equivalent score of students admitted is also considered as the median score for SAT."
   ]
  },
  {
   "cell_type": "markdown",
   "metadata": {},
   "source": [
    "### Datasets used\n",
    "\n",
    "There are 10 datasets included in the [`data`](../data/) folder for this project.\n",
    "\n",
    "* [`act_2017.csv`](../data/act_2017.csv): 2017 ACT Scores by State\n",
    "* [`act_2018.csv`](../data/act_2018.csv): 2018 ACT Scores by State\n",
    "* [`act_2019.csv`](../data/act_2019.csv): 2019 ACT Scores by State\n",
    "* [`sat_2017.csv`](../data/sat_2017.csv): 2017 SAT Scores by State\n",
    "* [`sat_2018.csv`](../data/sat_2018.csv): 2018 SAT Scores by State\n",
    "* [`sat_2019.csv`](../data/sat_2019.csv): 2019 SAT Scores by State\n",
    "* [`sat_act_by_college.csv`](../data/sat_act_by_college.csv): Ranges of Accepted ACT & SAT Student Scores by Colleges\n",
    "\n",
    "Additional datasets used\n",
    "\n",
    "* [`MERGED2018_19_PP.csv`](https://gadsi32wxl.s3.ap-southeast-1.amazonaws.com/MERGED2018_19_PP.csv): 2018-19 College-level data file containing aggregate data information on college enrollment.\n",
    "* [`MERGED2019_20_PP.csv`](https://gadsi32wxl.s3.ap-southeast-1.amazonaws.com/MERGED2019_20_PP.csv): 2019-20 College-level data file containing aggregate data information on college enrollment.\n",
    "* [`SAGDP1_GDP_summary_annual_state.csv`](../data/SAGDP1_GDP_summary_annual_state.csv): Annual Real GDP by State from 2017 to 2019."
   ]
  },
  {
   "cell_type": "markdown",
   "metadata": {
    "tags": []
   },
   "source": [
    "### External Research"
   ]
  },
  {
   "cell_type": "markdown",
   "metadata": {},
   "source": [
    "**Student Retention Rate**\n",
    "\n",
    "* The retention rate is calculated as the number of students that continued on their sophomore year for the current academic year divided by the number of freshman year students enrolled in the prior academic year.\n",
    "* The higher the rate, the higher the number of students that continued their college education after freshman year\n",
    "* We will be assessing if there is a positive correlation between the SAT & ACT scores with that of the student retention rate.\n",
    "\n",
    "[Data Source](https://collegescorecard.ed.gov/data/)\n",
    "\n",
    "[Data Dictionary](https://collegescorecard.ed.gov/data/documentation/)\n",
    "\n",
    "**Annual Real GDP by US State**\n",
    "\n",
    "* Gross Domestic Product (GDP) represents the monetary value of final goods & services provided by the states. It is a simple measure of economic activity & wealth\n",
    "* The higher the GDP, the more affluent the state is\n",
    "* We will be assessing if there is a relationship between the wealth of a state & the state's participation rate of standardized tests.\n",
    "\n",
    "[Data Source](https://apps.bea.gov/itable/iTable.cfm?ReqID=70&step=1)"
   ]
  },
  {
   "cell_type": "markdown",
   "metadata": {
    "tags": []
   },
   "source": [
    "### Custom Functions\n",
    "\n",
    "1. Manually calculate mean:\n",
    "\n",
    "    Write a function that takes in values and returns the mean of the values. Create a list of numbers that you test on your function to check to make sure your function works!\n",
    "    \n",
    "    *Note*: Do not use any mean methods built-in to any Python libraries to do this! This should be done without importing any additional libraries."
   ]
  },
  {
   "cell_type": "code",
   "execution_count": 1,
   "metadata": {},
   "outputs": [],
   "source": [
    "# Custom function to calculate mean of a list of numbers\n",
    "def manual_mean(num_list):\n",
    "    return sum(num_list)/len(num_list)"
   ]
  },
  {
   "cell_type": "markdown",
   "metadata": {},
   "source": [
    "2. Manually calculate standard deviation:\n",
    "\n",
    "    The formula for standard deviation is below:\n",
    "\n",
    "    $$\\sigma = \\sqrt{\\frac{1}{n}\\sum_{i=1}^n(x_i - \\mu)^2}$$\n",
    "\n",
    "    Where $x_i$ represents each value in the dataset, $\\mu$ represents the mean of all values in the dataset and $n$ represents the number of values in the dataset.\n",
    "\n",
    "    Write a function that takes in values and returns the standard deviation of the values using the formula above. Hint: use the function you wrote above to calculate the mean! Use the list of numbers you created above to test on your function.\n",
    "    \n",
    "    *Note*: Do not use any standard deviation methods built-in to any Python libraries to do this! This should be done without importing any additional libraries."
   ]
  },
  {
   "cell_type": "code",
   "execution_count": 2,
   "metadata": {},
   "outputs": [],
   "source": [
    "# Std dev function Code\n",
    "def sd(num_list):\n",
    "    discr = 0\n",
    "    lmean = sum(num_list)/len(num_list)    # calculate the mean of list of numbers\n",
    "    \n",
    "    for num in num_list:\n",
    "        discr += (num - lmean)**2          # calculate the sum of all (each value - mean)**2\n",
    "        \n",
    "    stddev = (discr/len(num_list))**0.5\n",
    "    \n",
    "    return stddev"
   ]
  },
  {
   "cell_type": "markdown",
   "metadata": {},
   "source": [
    "3. Data cleaning function:\n",
    "    \n",
    "    Write a function that takes in a string that is a number and a percent symbol (ex. '50%', '30.5%', etc.) and converts this to a float that is the decimal approximation of the percent. For example, inputting '50%' in your function should return 0.5, '30.5%' should return 0.305, etc. Make sure to test your function to make sure it works!\n",
    "\n",
    "You will use these functions later on in the project!"
   ]
  },
  {
   "cell_type": "code",
   "execution_count": 3,
   "metadata": {},
   "outputs": [],
   "source": [
    "# Function code to convert % string into a float value for percentage rate\n",
    "def percent_to_fltrate(string):\n",
    "    try:\n",
    "        result = float(string.strip('%'))/100 # remove the % from the string & convert it to a float\n",
    "    except:                                   # actions to handle error for convert a string into float\n",
    "        result = None\n",
    "    return result"
   ]
  },
  {
   "cell_type": "markdown",
   "metadata": {
    "tags": []
   },
   "source": [
    "## Python Libraries"
   ]
  },
  {
   "cell_type": "code",
   "execution_count": 4,
   "metadata": {},
   "outputs": [],
   "source": [
    "# Import libraries\n",
    "import pandas as pd\n",
    "import numpy as np\n",
    "import matplotlib.pyplot as plt\n",
    "import seaborn as sns"
   ]
  },
  {
   "cell_type": "markdown",
   "metadata": {
    "tags": []
   },
   "source": [
    "## Data Import and Cleaning"
   ]
  },
  {
   "cell_type": "markdown",
   "metadata": {
    "tags": []
   },
   "source": [
    "### Import all datasets"
   ]
  },
  {
   "cell_type": "code",
   "execution_count": 5,
   "metadata": {},
   "outputs": [],
   "source": [
    "# Import SAT Scores by State data file\n",
    "\n",
    "df2017sat = pd.read_csv('../data/sat_2017.csv')\n",
    "df2018sat = pd.read_csv('../data/sat_2018.csv')\n",
    "df2019sat = pd.read_csv('../data/sat_2019.csv')"
   ]
  },
  {
   "cell_type": "code",
   "execution_count": 6,
   "metadata": {},
   "outputs": [],
   "source": [
    "# Import ACT Scores by State data file\n",
    "\n",
    "df2017act = pd.read_csv('../data/act_2017.csv')\n",
    "df2018act = pd.read_csv('../data/act_2018.csv')\n",
    "df2019act = pd.read_csv('../data/act_2019.csv')"
   ]
  },
  {
   "cell_type": "code",
   "execution_count": 7,
   "metadata": {},
   "outputs": [],
   "source": [
    "# Import College enrollment data file\n",
    "\n",
    "df2018enroll = pd.read_csv('https://gadsi32wxl.s3.ap-southeast-1.amazonaws.com/MERGED2018_19_PP.csv', low_memory=False)\n",
    "df2019enroll = pd.read_csv('https://gadsi32wxl.s3.ap-southeast-1.amazonaws.com/MERGED2019_20_PP.csv', low_memory=False)"
   ]
  },
  {
   "cell_type": "code",
   "execution_count": 8,
   "metadata": {},
   "outputs": [],
   "source": [
    "# Import Ranges of Accepted ACT & SAT Student Scores by Colleges data file\n",
    "\n",
    "dfsatactbycollege = pd.read_csv('../data/sat_act_by_college.csv')"
   ]
  },
  {
   "cell_type": "code",
   "execution_count": 9,
   "metadata": {},
   "outputs": [],
   "source": [
    "# Import Annual Real GDP by State data file\n",
    "\n",
    "dfgdpbystate = pd.read_csv('../data/SAGDP1_GDP_summary_annual_state.csv')"
   ]
  },
  {
   "cell_type": "markdown",
   "metadata": {
    "tags": []
   },
   "source": [
    "### Clean up datasets for EDA"
   ]
  },
  {
   "cell_type": "markdown",
   "metadata": {
    "tags": []
   },
   "source": [
    "#### Dataframe: SAT Scores by State"
   ]
  },
  {
   "cell_type": "code",
   "execution_count": 10,
   "metadata": {},
   "outputs": [
    {
     "name": "stdout",
     "output_type": "stream",
     "text": [
      "(51, 5)\n",
      "     State Participation  Evidence-Based Reading and Writing  Math  Total\n",
      "0  Alabama            5%                                 593   572   1165\n",
      "1   Alaska           38%                                 547   533   1080\n",
      "2  Arizona           30%                                 563   553   1116\n",
      "(51, 5)\n",
      "     State Participation  Evidence-Based Reading and Writing  Math  Total\n",
      "0  Alabama            6%                                 595   571   1166\n",
      "1   Alaska           43%                                 562   544   1106\n",
      "2  Arizona           29%                                 577   572   1149\n",
      "(53, 5)\n",
      "     State Participation Rate  EBRW  Math  Total\n",
      "0  Alabama                 7%   583   560   1143\n",
      "1   Alaska                41%   556   541   1097\n",
      "2  Arizona                31%   569   565   1134\n"
     ]
    }
   ],
   "source": [
    "print(df2017sat.shape)\n",
    "print(df2017sat.head(3))\n",
    "print(df2018sat.shape)\n",
    "print(df2018sat.head(3))\n",
    "print(df2019sat.shape)\n",
    "print(df2019sat.head(3))"
   ]
  },
  {
   "cell_type": "markdown",
   "metadata": {},
   "source": [
    "**Check for Missing values**"
   ]
  },
  {
   "cell_type": "code",
   "execution_count": 11,
   "metadata": {},
   "outputs": [
    {
     "name": "stdout",
     "output_type": "stream",
     "text": [
      "<class 'pandas.core.frame.DataFrame'>\n",
      "RangeIndex: 51 entries, 0 to 50\n",
      "Data columns (total 5 columns):\n",
      " #   Column                              Non-Null Count  Dtype \n",
      "---  ------                              --------------  ----- \n",
      " 0   State                               51 non-null     object\n",
      " 1   Participation                       51 non-null     object\n",
      " 2   Evidence-Based Reading and Writing  51 non-null     int64 \n",
      " 3   Math                                51 non-null     int64 \n",
      " 4   Total                               51 non-null     int64 \n",
      "dtypes: int64(3), object(2)\n",
      "memory usage: 2.1+ KB\n"
     ]
    }
   ],
   "source": [
    "df2017sat.info()"
   ]
  },
  {
   "cell_type": "code",
   "execution_count": 12,
   "metadata": {},
   "outputs": [
    {
     "name": "stdout",
     "output_type": "stream",
     "text": [
      "<class 'pandas.core.frame.DataFrame'>\n",
      "RangeIndex: 51 entries, 0 to 50\n",
      "Data columns (total 5 columns):\n",
      " #   Column                              Non-Null Count  Dtype \n",
      "---  ------                              --------------  ----- \n",
      " 0   State                               51 non-null     object\n",
      " 1   Participation                       51 non-null     object\n",
      " 2   Evidence-Based Reading and Writing  51 non-null     int64 \n",
      " 3   Math                                51 non-null     int64 \n",
      " 4   Total                               51 non-null     int64 \n",
      "dtypes: int64(3), object(2)\n",
      "memory usage: 2.1+ KB\n"
     ]
    }
   ],
   "source": [
    "df2018sat.info()"
   ]
  },
  {
   "cell_type": "code",
   "execution_count": 13,
   "metadata": {},
   "outputs": [
    {
     "name": "stdout",
     "output_type": "stream",
     "text": [
      "<class 'pandas.core.frame.DataFrame'>\n",
      "RangeIndex: 53 entries, 0 to 52\n",
      "Data columns (total 5 columns):\n",
      " #   Column              Non-Null Count  Dtype \n",
      "---  ------              --------------  ----- \n",
      " 0   State               53 non-null     object\n",
      " 1   Participation Rate  53 non-null     object\n",
      " 2   EBRW                53 non-null     int64 \n",
      " 3   Math                53 non-null     int64 \n",
      " 4   Total               53 non-null     int64 \n",
      "dtypes: int64(3), object(2)\n",
      "memory usage: 2.2+ KB\n"
     ]
    }
   ],
   "source": [
    "df2019sat.info()"
   ]
  },
  {
   "cell_type": "markdown",
   "metadata": {},
   "source": [
    "- There are no missing values so far\n",
    "- Participation (for 2017 & 2018 dataframe) & Participation Rate for 2019 dataframe is being captured as object\n",
    "- The column header (Participation Rate) are not aligned across all 3 datasets\n",
    "- 2019 SAT dataset has 2 more row entries than that of 2017 & 2018 SAT dataset"
   ]
  },
  {
   "cell_type": "code",
   "execution_count": 14,
   "metadata": {},
   "outputs": [],
   "source": [
    "# Convert the Participation Rate from a string 'xx%' to a float number\n",
    "\n",
    "df2017sat['Participation'] = df2017sat['Participation'].map(percent_to_fltrate)\n",
    "df2018sat['Participation'] = df2018sat['Participation'].map(percent_to_fltrate)\n",
    "df2019sat['Participation Rate'] = df2019sat['Participation Rate'].map(percent_to_fltrate)"
   ]
  },
  {
   "cell_type": "code",
   "execution_count": 15,
   "metadata": {},
   "outputs": [
    {
     "name": "stdout",
     "output_type": "stream",
     "text": [
      "<class 'pandas.core.frame.DataFrame'>\n",
      "RangeIndex: 53 entries, 0 to 52\n",
      "Data columns (total 5 columns):\n",
      " #   Column              Non-Null Count  Dtype  \n",
      "---  ------              --------------  -----  \n",
      " 0   State               53 non-null     object \n",
      " 1   Participation Rate  51 non-null     float64\n",
      " 2   EBRW                53 non-null     int64  \n",
      " 3   Math                53 non-null     int64  \n",
      " 4   Total               53 non-null     int64  \n",
      "dtypes: float64(1), int64(3), object(1)\n",
      "memory usage: 2.2+ KB\n"
     ]
    }
   ],
   "source": [
    "df2019sat.info()"
   ]
  },
  {
   "cell_type": "markdown",
   "metadata": {},
   "source": [
    "- There are 2 NaN values under Participation Rate for 2019 SAT dataset after converting the series into float type"
   ]
  },
  {
   "cell_type": "code",
   "execution_count": 16,
   "metadata": {},
   "outputs": [
    {
     "data": {
      "text/html": [
       "<div>\n",
       "<style scoped>\n",
       "    .dataframe tbody tr th:only-of-type {\n",
       "        vertical-align: middle;\n",
       "    }\n",
       "\n",
       "    .dataframe tbody tr th {\n",
       "        vertical-align: top;\n",
       "    }\n",
       "\n",
       "    .dataframe thead th {\n",
       "        text-align: right;\n",
       "    }\n",
       "</style>\n",
       "<table border=\"1\" class=\"dataframe\">\n",
       "  <thead>\n",
       "    <tr style=\"text-align: right;\">\n",
       "      <th></th>\n",
       "      <th>State</th>\n",
       "      <th>Participation Rate</th>\n",
       "      <th>EBRW</th>\n",
       "      <th>Math</th>\n",
       "      <th>Total</th>\n",
       "    </tr>\n",
       "  </thead>\n",
       "  <tbody>\n",
       "    <tr>\n",
       "      <th>39</th>\n",
       "      <td>Puerto Rico</td>\n",
       "      <td>NaN</td>\n",
       "      <td>483</td>\n",
       "      <td>462</td>\n",
       "      <td>944</td>\n",
       "    </tr>\n",
       "    <tr>\n",
       "      <th>47</th>\n",
       "      <td>Virgin Islands</td>\n",
       "      <td>NaN</td>\n",
       "      <td>490</td>\n",
       "      <td>445</td>\n",
       "      <td>935</td>\n",
       "    </tr>\n",
       "  </tbody>\n",
       "</table>\n",
       "</div>"
      ],
      "text/plain": [
       "             State  Participation Rate  EBRW  Math  Total\n",
       "39     Puerto Rico                 NaN   483   462    944\n",
       "47  Virgin Islands                 NaN   490   445    935"
      ]
     },
     "execution_count": 16,
     "metadata": {},
     "output_type": "execute_result"
    }
   ],
   "source": [
    "# Locate where the NaN values are occurring from\n",
    "df2019sat[df2019sat['Participation Rate'].isnull()]"
   ]
  },
  {
   "cell_type": "markdown",
   "metadata": {},
   "source": [
    "- As Puerto Rico & Virgin Islands are not considered as States but rather as Inhabited US Territories, thus we can exclude them from this analysis."
   ]
  },
  {
   "cell_type": "code",
   "execution_count": 17,
   "metadata": {},
   "outputs": [],
   "source": [
    "# align the column headers to a clearer name description\n",
    "df2017sat.rename(columns={\"Participation\": \"sat_part_rate_2017\"}, inplace=True)\n",
    "df2018sat.rename(columns={\"Participation\": \"sat_part_rate_2018\"}, inplace=True)\n",
    "df2019sat.rename(columns={\"Participation Rate\": \"sat_part_rate_2019\"}, inplace=True)"
   ]
  },
  {
   "cell_type": "code",
   "execution_count": 18,
   "metadata": {},
   "outputs": [],
   "source": [
    "# Merge SAT scores dataframes into 1 consolidated SAT scores dataframe\n",
    "\n",
    "dftemp1 = pd.merge(left = df2017sat,     # dftemp1 is a temporary df variable for the 1st round of merging\n",
    "                   right = df2018sat,\n",
    "                   how = 'left',\n",
    "                   on = 'State')\n",
    "dfsatpartstate = pd.merge(left = dftemp1,\n",
    "                          right = df2019sat,\n",
    "                          how = 'left',\n",
    "                          on = 'State')"
   ]
  },
  {
   "cell_type": "code",
   "execution_count": 19,
   "metadata": {},
   "outputs": [],
   "source": [
    "# Capture only State & Participation rate columns into the new SAT Participation Rate Dataframe by State\n",
    "\n",
    "dfsatpartstate = dfsatpartstate[['State','sat_part_rate_2017','sat_part_rate_2018','sat_part_rate_2019']]                                                                   "
   ]
  },
  {
   "cell_type": "code",
   "execution_count": 20,
   "metadata": {},
   "outputs": [
    {
     "name": "stdout",
     "output_type": "stream",
     "text": [
      "(51, 4)\n",
      "     State  sat_part_rate_2017  sat_part_rate_2018  sat_part_rate_2019\n",
      "0  Alabama                0.05                0.06                0.07\n",
      "1   Alaska                0.38                0.43                0.41\n",
      "2  Arizona                0.30                0.29                0.31\n",
      "<class 'pandas.core.frame.DataFrame'>\n",
      "Int64Index: 51 entries, 0 to 50\n",
      "Data columns (total 4 columns):\n",
      " #   Column              Non-Null Count  Dtype  \n",
      "---  ------              --------------  -----  \n",
      " 0   State               51 non-null     object \n",
      " 1   sat_part_rate_2017  51 non-null     float64\n",
      " 2   sat_part_rate_2018  51 non-null     float64\n",
      " 3   sat_part_rate_2019  51 non-null     float64\n",
      "dtypes: float64(3), object(1)\n",
      "memory usage: 2.0+ KB\n"
     ]
    }
   ],
   "source": [
    "print(dfsatpartstate.shape) \n",
    "print(dfsatpartstate.head(3))\n",
    "dfsatpartstate.info() "
   ]
  },
  {
   "cell_type": "code",
   "execution_count": 21,
   "metadata": {},
   "outputs": [
    {
     "data": {
      "text/plain": [
       "Index(['state', 'sat_part_rate_2017', 'sat_part_rate_2018',\n",
       "       'sat_part_rate_2019'],\n",
       "      dtype='object')"
      ]
     },
     "execution_count": 21,
     "metadata": {},
     "output_type": "execute_result"
    }
   ],
   "source": [
    "# set all column headers to lowercase\n",
    "\n",
    "dfsatpartstate.columns = dfsatpartstate.columns.str.lower()\n",
    "dfsatpartstate.columns"
   ]
  },
  {
   "cell_type": "code",
   "execution_count": 22,
   "metadata": {},
   "outputs": [
    {
     "data": {
      "text/plain": [
       "array(['Alabama', 'Alaska', 'Arizona', 'Arkansas', 'California',\n",
       "       'Colorado', 'Connecticut', 'Delaware', 'District of Columbia',\n",
       "       'Florida', 'Georgia', 'Hawaii', 'Idaho', 'Illinois', 'Indiana',\n",
       "       'Iowa', 'Kansas', 'Kentucky', 'Louisiana', 'Maine', 'Maryland',\n",
       "       'Massachusetts', 'Michigan', 'Minnesota', 'Mississippi',\n",
       "       'Missouri', 'Montana', 'Nebraska', 'Nevada', 'New Hampshire',\n",
       "       'New Jersey', 'New Mexico', 'New York', 'North Carolina',\n",
       "       'North Dakota', 'Ohio', 'Oklahoma', 'Oregon', 'Pennsylvania',\n",
       "       'Rhode Island', 'South Carolina', 'South Dakota', 'Tennessee',\n",
       "       'Texas', 'Utah', 'Vermont', 'Virginia', 'Washington',\n",
       "       'West Virginia', 'Wisconsin', 'Wyoming'], dtype=object)"
      ]
     },
     "execution_count": 22,
     "metadata": {},
     "output_type": "execute_result"
    }
   ],
   "source": [
    "# to show that Puerto Rico & Virgin Islands are no longer in the merged list\n",
    "\n",
    "dfsatpartstate['state'].unique()"
   ]
  },
  {
   "cell_type": "markdown",
   "metadata": {},
   "source": [
    "- Puerto Rico & Virgin Islands have been removed during the merging of 2017, 2018 & 2019 SAT participation tables. Puerto Rico & Virgin Islands did not exist in 2017 SAT dataframe (original Left df)."
   ]
  },
  {
   "cell_type": "markdown",
   "metadata": {
    "tags": []
   },
   "source": [
    "#### Dataset: ACT Scores by State"
   ]
  },
  {
   "cell_type": "code",
   "execution_count": 23,
   "metadata": {},
   "outputs": [
    {
     "name": "stdout",
     "output_type": "stream",
     "text": [
      "(52, 7)\n",
      "      State Participation  English  Math  Reading  Science Composite\n",
      "0  National           60%     20.3  20.7     21.4     21.0      21.0\n",
      "1   Alabama          100%     18.9  18.4     19.7     19.4      19.2\n",
      "2    Alaska           65%     18.7  19.8     20.4     19.9      19.8\n",
      "(52, 3)\n",
      "     State Participation  Composite\n",
      "0  Alabama          100%       19.1\n",
      "1   Alaska           33%       20.8\n",
      "2  Arizona           66%       19.2\n",
      "(52, 3)\n",
      "     State Participation  Composite\n",
      "0  Alabama          100%       18.9\n",
      "1   Alaska           38%       20.1\n",
      "2  Arizona           73%       19.0\n"
     ]
    }
   ],
   "source": [
    "print(df2017act.shape)\n",
    "print(df2017act.head(3))\n",
    "print(df2018act.shape)\n",
    "print(df2018act.head(3))\n",
    "print(df2019act.shape)\n",
    "print(df2019act.head(3))"
   ]
  },
  {
   "cell_type": "markdown",
   "metadata": {},
   "source": [
    "**Check for Missing values**"
   ]
  },
  {
   "cell_type": "code",
   "execution_count": 24,
   "metadata": {},
   "outputs": [
    {
     "name": "stdout",
     "output_type": "stream",
     "text": [
      "<class 'pandas.core.frame.DataFrame'>\n",
      "RangeIndex: 52 entries, 0 to 51\n",
      "Data columns (total 7 columns):\n",
      " #   Column         Non-Null Count  Dtype  \n",
      "---  ------         --------------  -----  \n",
      " 0   State          52 non-null     object \n",
      " 1   Participation  52 non-null     object \n",
      " 2   English        52 non-null     float64\n",
      " 3   Math           52 non-null     float64\n",
      " 4   Reading        52 non-null     float64\n",
      " 5   Science        52 non-null     float64\n",
      " 6   Composite      52 non-null     object \n",
      "dtypes: float64(4), object(3)\n",
      "memory usage: 3.0+ KB\n"
     ]
    }
   ],
   "source": [
    "df2017act.info()"
   ]
  },
  {
   "cell_type": "code",
   "execution_count": 25,
   "metadata": {},
   "outputs": [
    {
     "name": "stdout",
     "output_type": "stream",
     "text": [
      "<class 'pandas.core.frame.DataFrame'>\n",
      "RangeIndex: 52 entries, 0 to 51\n",
      "Data columns (total 3 columns):\n",
      " #   Column         Non-Null Count  Dtype  \n",
      "---  ------         --------------  -----  \n",
      " 0   State          52 non-null     object \n",
      " 1   Participation  52 non-null     object \n",
      " 2   Composite      52 non-null     float64\n",
      "dtypes: float64(1), object(2)\n",
      "memory usage: 1.3+ KB\n"
     ]
    }
   ],
   "source": [
    "df2018act.info()"
   ]
  },
  {
   "cell_type": "code",
   "execution_count": 26,
   "metadata": {},
   "outputs": [
    {
     "name": "stdout",
     "output_type": "stream",
     "text": [
      "<class 'pandas.core.frame.DataFrame'>\n",
      "RangeIndex: 52 entries, 0 to 51\n",
      "Data columns (total 3 columns):\n",
      " #   Column         Non-Null Count  Dtype  \n",
      "---  ------         --------------  -----  \n",
      " 0   State          52 non-null     object \n",
      " 1   Participation  52 non-null     object \n",
      " 2   Composite      52 non-null     float64\n",
      "dtypes: float64(1), object(2)\n",
      "memory usage: 1.3+ KB\n"
     ]
    }
   ],
   "source": [
    "df2019act.info()"
   ]
  },
  {
   "cell_type": "markdown",
   "metadata": {},
   "source": [
    "**Quick findings**\n",
    "- There are no missing values in all 3 ACT datasets so far\n",
    "- There are 52 entries in each dataset while there are only 51 states in US (including District of Columbia)"
   ]
  },
  {
   "cell_type": "code",
   "execution_count": 27,
   "metadata": {},
   "outputs": [],
   "source": [
    "# custom function that throws out the exception data element between 2 lists\n",
    "\n",
    "def compare_list(samplelist, baselist):\n",
    "    diff = []\n",
    "    for element in samplelist:\n",
    "        if element not in baselist:\n",
    "            diff.append(element)\n",
    "            print(f\"{diff} is in test list not in base list.\")"
   ]
  },
  {
   "cell_type": "code",
   "execution_count": 28,
   "metadata": {},
   "outputs": [
    {
     "name": "stdout",
     "output_type": "stream",
     "text": [
      "['National'] is in test list not in base list.\n",
      "['District of columbia'] is in test list not in base list.\n",
      "['National'] is in test list not in base list.\n"
     ]
    }
   ],
   "source": [
    "# throw out the exception data element when comparing the list of states between ACT Score dataframe & SAT Score dataframe\n",
    "\n",
    "compare_list(list(df2017act.State), list(dfsatpartstate.state))\n",
    "compare_list(list(df2018act.State), list(dfsatpartstate.state))\n",
    "compare_list(list(df2019act.State), list(dfsatpartstate.state))"
   ]
  },
  {
   "cell_type": "code",
   "execution_count": 29,
   "metadata": {},
   "outputs": [
    {
     "data": {
      "text/html": [
       "<div>\n",
       "<style scoped>\n",
       "    .dataframe tbody tr th:only-of-type {\n",
       "        vertical-align: middle;\n",
       "    }\n",
       "\n",
       "    .dataframe tbody tr th {\n",
       "        vertical-align: top;\n",
       "    }\n",
       "\n",
       "    .dataframe thead th {\n",
       "        text-align: right;\n",
       "    }\n",
       "</style>\n",
       "<table border=\"1\" class=\"dataframe\">\n",
       "  <thead>\n",
       "    <tr style=\"text-align: right;\">\n",
       "      <th></th>\n",
       "      <th>State</th>\n",
       "      <th>Participation</th>\n",
       "      <th>Composite</th>\n",
       "    </tr>\n",
       "  </thead>\n",
       "  <tbody>\n",
       "    <tr>\n",
       "      <th>20</th>\n",
       "      <td>Maine</td>\n",
       "      <td>7%</td>\n",
       "      <td>24.0</td>\n",
       "    </tr>\n",
       "  </tbody>\n",
       "</table>\n",
       "</div>"
      ],
      "text/plain": [
       "    State Participation  Composite\n",
       "20  Maine            7%       24.0"
      ]
     },
     "execution_count": 29,
     "metadata": {},
     "output_type": "execute_result"
    }
   ],
   "source": [
    "# throw out the duplicated data row in 2018 ACT dataframe \n",
    "\n",
    "df2018act[df2018act.duplicated()]"
   ]
  },
  {
   "cell_type": "markdown",
   "metadata": {},
   "source": [
    "1. 2017 ACT dataset & 2019 ACT dataset\n",
    "    - Data row with State 'National' exists.\n",
    "2. 2018 ACT dataset\n",
    "    - Data row with State 'Maine' is duplicated twice (Row index 20).\n",
    "    - Data row with State 'District of columbia' is in lowercase for alphabet C. This will cause issues later when trying to merge the datasets."
   ]
  },
  {
   "cell_type": "code",
   "execution_count": 30,
   "metadata": {},
   "outputs": [],
   "source": [
    "# Convert the Participation Rate from a string 'xx%' to a float number\n",
    "\n",
    "df2017act['Participation'] = df2017act['Participation'].map(percent_to_fltrate)\n",
    "df2018act['Participation'] = df2018act['Participation'].map(percent_to_fltrate)\n",
    "df2019act['Participation'] = df2019act['Participation'].map(percent_to_fltrate)"
   ]
  },
  {
   "cell_type": "code",
   "execution_count": 31,
   "metadata": {},
   "outputs": [],
   "source": [
    "# align the column headers to a clearer name description\n",
    "\n",
    "df2017act.rename(columns={\"Participation\": \"act_part_rate_2017\"}, inplace=True)\n",
    "df2018act.rename(columns={\"Participation\": \"act_part_rate_2018\"}, inplace=True)\n",
    "df2019act.rename(columns={\"Participation\": \"act_part_rate_2019\"}, inplace=True)"
   ]
  },
  {
   "cell_type": "code",
   "execution_count": 32,
   "metadata": {},
   "outputs": [],
   "source": [
    "# lowercase all column headers for merging\n",
    "\n",
    "df2017act.columns = df2017act.columns.str.lower()\n",
    "df2018act.columns = df2018act.columns.str.lower()\n",
    "df2019act.columns = df2019act.columns.str.lower()"
   ]
  },
  {
   "cell_type": "code",
   "execution_count": 33,
   "metadata": {},
   "outputs": [],
   "source": [
    "# Rename 'District of columbia' to 'District of Columbia'\n",
    "df2018act.loc[df2018act.state == 'District of columbia', 'state'] = 'District of Columbia'"
   ]
  },
  {
   "cell_type": "code",
   "execution_count": 34,
   "metadata": {},
   "outputs": [],
   "source": [
    "# Remove duplicate line for Maine\n",
    "df2018act.drop_duplicates(inplace=True)"
   ]
  },
  {
   "cell_type": "code",
   "execution_count": 35,
   "metadata": {},
   "outputs": [],
   "source": [
    "# Merge ACT dataframes into 1 consolidated SAT-ACT dataframe\n",
    "\n",
    "dftemp2 = pd.merge(left = dfsatpartstate,     # dftemp2 & dftemp3 are temporary df variables for merging\n",
    "                   right = df2017act,\n",
    "                   how = 'left',\n",
    "                   on = 'state')\n",
    "dftemp3 = pd.merge(left = dftemp2,\n",
    "                   right = df2018act,\n",
    "                   how = 'left',\n",
    "                   on = 'state')\n",
    "dfsatactpartstate = pd.merge(left = dftemp3,\n",
    "                             right = df2019act,\n",
    "                             how = 'left',\n",
    "                             on = 'state')"
   ]
  },
  {
   "cell_type": "markdown",
   "metadata": {},
   "source": [
    "**Brief summary**\n",
    "- District of columbia will be renamed to District of Columbia\n",
    "- The extra element in 'state' column came from 'National', which is unique to ACT Scores df. This will be removed upon the merging of SAT & ACT score files"
   ]
  },
  {
   "cell_type": "code",
   "execution_count": 36,
   "metadata": {},
   "outputs": [],
   "source": [
    "# cleaning up data columns for SAT-ACT Participation by State Dataframe\n",
    "\n",
    "dfsatactpartstate = dfsatactpartstate[['state',\n",
    "                                       'sat_part_rate_2017',\n",
    "                                       'sat_part_rate_2018',\n",
    "                                       'sat_part_rate_2019',\n",
    "                                       'act_part_rate_2017',\n",
    "                                       'act_part_rate_2018',\n",
    "                                       'act_part_rate_2019']] "
   ]
  },
  {
   "cell_type": "code",
   "execution_count": 37,
   "metadata": {},
   "outputs": [
    {
     "name": "stdout",
     "output_type": "stream",
     "text": [
      "(51, 7)\n",
      "<class 'pandas.core.frame.DataFrame'>\n",
      "Int64Index: 51 entries, 0 to 50\n",
      "Data columns (total 7 columns):\n",
      " #   Column              Non-Null Count  Dtype  \n",
      "---  ------              --------------  -----  \n",
      " 0   state               51 non-null     object \n",
      " 1   sat_part_rate_2017  51 non-null     float64\n",
      " 2   sat_part_rate_2018  51 non-null     float64\n",
      " 3   sat_part_rate_2019  51 non-null     float64\n",
      " 4   act_part_rate_2017  51 non-null     float64\n",
      " 5   act_part_rate_2018  51 non-null     float64\n",
      " 6   act_part_rate_2019  51 non-null     float64\n",
      "dtypes: float64(6), object(1)\n",
      "memory usage: 3.2+ KB\n"
     ]
    },
    {
     "data": {
      "text/html": [
       "<div>\n",
       "<style scoped>\n",
       "    .dataframe tbody tr th:only-of-type {\n",
       "        vertical-align: middle;\n",
       "    }\n",
       "\n",
       "    .dataframe tbody tr th {\n",
       "        vertical-align: top;\n",
       "    }\n",
       "\n",
       "    .dataframe thead th {\n",
       "        text-align: right;\n",
       "    }\n",
       "</style>\n",
       "<table border=\"1\" class=\"dataframe\">\n",
       "  <thead>\n",
       "    <tr style=\"text-align: right;\">\n",
       "      <th></th>\n",
       "      <th>state</th>\n",
       "      <th>sat_part_rate_2017</th>\n",
       "      <th>sat_part_rate_2018</th>\n",
       "      <th>sat_part_rate_2019</th>\n",
       "      <th>act_part_rate_2017</th>\n",
       "      <th>act_part_rate_2018</th>\n",
       "      <th>act_part_rate_2019</th>\n",
       "    </tr>\n",
       "  </thead>\n",
       "  <tbody>\n",
       "    <tr>\n",
       "      <th>0</th>\n",
       "      <td>Alabama</td>\n",
       "      <td>0.05</td>\n",
       "      <td>0.06</td>\n",
       "      <td>0.07</td>\n",
       "      <td>1.00</td>\n",
       "      <td>1.00</td>\n",
       "      <td>1.00</td>\n",
       "    </tr>\n",
       "    <tr>\n",
       "      <th>1</th>\n",
       "      <td>Alaska</td>\n",
       "      <td>0.38</td>\n",
       "      <td>0.43</td>\n",
       "      <td>0.41</td>\n",
       "      <td>0.65</td>\n",
       "      <td>0.33</td>\n",
       "      <td>0.38</td>\n",
       "    </tr>\n",
       "    <tr>\n",
       "      <th>2</th>\n",
       "      <td>Arizona</td>\n",
       "      <td>0.30</td>\n",
       "      <td>0.29</td>\n",
       "      <td>0.31</td>\n",
       "      <td>0.62</td>\n",
       "      <td>0.66</td>\n",
       "      <td>0.73</td>\n",
       "    </tr>\n",
       "  </tbody>\n",
       "</table>\n",
       "</div>"
      ],
      "text/plain": [
       "     state  sat_part_rate_2017  sat_part_rate_2018  sat_part_rate_2019  \\\n",
       "0  Alabama                0.05                0.06                0.07   \n",
       "1   Alaska                0.38                0.43                0.41   \n",
       "2  Arizona                0.30                0.29                0.31   \n",
       "\n",
       "   act_part_rate_2017  act_part_rate_2018  act_part_rate_2019  \n",
       "0                1.00                1.00                1.00  \n",
       "1                0.65                0.33                0.38  \n",
       "2                0.62                0.66                0.73  "
      ]
     },
     "execution_count": 37,
     "metadata": {},
     "output_type": "execute_result"
    }
   ],
   "source": [
    "print(dfsatactpartstate.shape)\n",
    "dfsatactpartstate.info()\n",
    "dfsatactpartstate.head(3)"
   ]
  },
  {
   "cell_type": "markdown",
   "metadata": {
    "tags": []
   },
   "source": [
    "#### Dataset: Annual GDP by State"
   ]
  },
  {
   "cell_type": "code",
   "execution_count": 38,
   "metadata": {},
   "outputs": [
    {
     "name": "stdout",
     "output_type": "stream",
     "text": [
      "(51, 5)\n",
      "<class 'pandas.core.frame.DataFrame'>\n",
      "RangeIndex: 51 entries, 0 to 50\n",
      "Data columns (total 5 columns):\n",
      " #   Column   Non-Null Count  Dtype  \n",
      "---  ------   --------------  -----  \n",
      " 0   GeoFips  51 non-null     int64  \n",
      " 1   GeoName  51 non-null     object \n",
      " 2   2017     51 non-null     float64\n",
      " 3   2018     51 non-null     float64\n",
      " 4   2019     51 non-null     float64\n",
      "dtypes: float64(3), int64(1), object(1)\n",
      "memory usage: 2.1+ KB\n"
     ]
    },
    {
     "data": {
      "text/html": [
       "<div>\n",
       "<style scoped>\n",
       "    .dataframe tbody tr th:only-of-type {\n",
       "        vertical-align: middle;\n",
       "    }\n",
       "\n",
       "    .dataframe tbody tr th {\n",
       "        vertical-align: top;\n",
       "    }\n",
       "\n",
       "    .dataframe thead th {\n",
       "        text-align: right;\n",
       "    }\n",
       "</style>\n",
       "<table border=\"1\" class=\"dataframe\">\n",
       "  <thead>\n",
       "    <tr style=\"text-align: right;\">\n",
       "      <th></th>\n",
       "      <th>GeoFips</th>\n",
       "      <th>GeoName</th>\n",
       "      <th>2017</th>\n",
       "      <th>2018</th>\n",
       "      <th>2019</th>\n",
       "    </tr>\n",
       "  </thead>\n",
       "  <tbody>\n",
       "    <tr>\n",
       "      <th>0</th>\n",
       "      <td>1000</td>\n",
       "      <td>Alabama</td>\n",
       "      <td>197566.6</td>\n",
       "      <td>200800.9</td>\n",
       "      <td>203383.9</td>\n",
       "    </tr>\n",
       "    <tr>\n",
       "      <th>1</th>\n",
       "      <td>2000</td>\n",
       "      <td>Alaska</td>\n",
       "      <td>54129.5</td>\n",
       "      <td>53249.6</td>\n",
       "      <td>53336.5</td>\n",
       "    </tr>\n",
       "    <tr>\n",
       "      <th>2</th>\n",
       "      <td>4000</td>\n",
       "      <td>Arizona</td>\n",
       "      <td>302455.4</td>\n",
       "      <td>313618.7</td>\n",
       "      <td>323894.3</td>\n",
       "    </tr>\n",
       "  </tbody>\n",
       "</table>\n",
       "</div>"
      ],
      "text/plain": [
       "   GeoFips  GeoName      2017      2018      2019\n",
       "0     1000  Alabama  197566.6  200800.9  203383.9\n",
       "1     2000   Alaska   54129.5   53249.6   53336.5\n",
       "2     4000  Arizona  302455.4  313618.7  323894.3"
      ]
     },
     "execution_count": 38,
     "metadata": {},
     "output_type": "execute_result"
    }
   ],
   "source": [
    "print(dfgdpbystate.shape)\n",
    "dfgdpbystate.info()\n",
    "dfgdpbystate.head(3)"
   ]
  },
  {
   "cell_type": "markdown",
   "metadata": {},
   "source": [
    "**Quick findings**\n",
    "- There are no missing values in this dataset\n",
    "- There are 51 rows in this dataset, which is expected (51 states in US including District of Columbia)\n",
    "- The column name 'GeoName' need to be rename to 'state' in order to merge with SAT-ACT Participation by State dataframe later on"
   ]
  },
  {
   "cell_type": "code",
   "execution_count": 39,
   "metadata": {},
   "outputs": [],
   "source": [
    "# align the column headers to a clearer name description\n",
    "\n",
    "dfgdpbystate.rename(columns={\"GeoName\": \"state\"}, inplace=True)\n",
    "dfgdpbystate.rename(columns={\"2017\": \"annual_gdp_2017\"}, inplace=True)\n",
    "dfgdpbystate.rename(columns={\"2018\": \"annual_gdp_2018\"}, inplace=True)\n",
    "dfgdpbystate.rename(columns={\"2019\": \"annual_gdp_2019\"}, inplace=True)"
   ]
  },
  {
   "cell_type": "code",
   "execution_count": 40,
   "metadata": {},
   "outputs": [],
   "source": [
    "# Merge Annual GDP dataframes into 1 consolidated SAT-ACT-GDP dataframe\n",
    "\n",
    "dfsat_act_part_gdp_state = pd.merge(left = dfsatactpartstate,\n",
    "                                    right = dfgdpbystate,\n",
    "                                    how = 'left',\n",
    "                                    on = 'state')"
   ]
  },
  {
   "cell_type": "code",
   "execution_count": 41,
   "metadata": {},
   "outputs": [],
   "source": [
    "# Remove GeoFips column from SAT-ACT-GDP dataframe\n",
    "\n",
    "dfsat_act_part_gdp_state = dfsat_act_part_gdp_state.drop(['GeoFips'], axis=1)"
   ]
  },
  {
   "cell_type": "code",
   "execution_count": 42,
   "metadata": {},
   "outputs": [],
   "source": [
    "# Calculate the mean SAT Participation rate, ACT Participation rate & Annual GDP across 3 years (2017-2019) & include them into SAT-ACT-GDP dataframe\n",
    "\n",
    "dfsat_act_part_gdp_state['mean_sat_part_rate'] = (dfsat_act_part_gdp_state[['sat_part_rate_2017', 'sat_part_rate_2018', 'sat_part_rate_2019']].mean(axis=1))\n",
    "dfsat_act_part_gdp_state['mean_act_part_rate'] = (dfsat_act_part_gdp_state[['act_part_rate_2017', 'act_part_rate_2018', 'act_part_rate_2019']].mean(axis=1))\n",
    "dfsat_act_part_gdp_state['mean_annual_gdp'] = (dfsat_act_part_gdp_state[['annual_gdp_2017', 'annual_gdp_2018', 'annual_gdp_2019']].mean(axis=1))"
   ]
  },
  {
   "cell_type": "code",
   "execution_count": 43,
   "metadata": {},
   "outputs": [
    {
     "name": "stdout",
     "output_type": "stream",
     "text": [
      "(51, 13)\n",
      "<class 'pandas.core.frame.DataFrame'>\n",
      "Int64Index: 51 entries, 0 to 50\n",
      "Data columns (total 13 columns):\n",
      " #   Column              Non-Null Count  Dtype  \n",
      "---  ------              --------------  -----  \n",
      " 0   state               51 non-null     object \n",
      " 1   sat_part_rate_2017  51 non-null     float64\n",
      " 2   sat_part_rate_2018  51 non-null     float64\n",
      " 3   sat_part_rate_2019  51 non-null     float64\n",
      " 4   act_part_rate_2017  51 non-null     float64\n",
      " 5   act_part_rate_2018  51 non-null     float64\n",
      " 6   act_part_rate_2019  51 non-null     float64\n",
      " 7   annual_gdp_2017     51 non-null     float64\n",
      " 8   annual_gdp_2018     51 non-null     float64\n",
      " 9   annual_gdp_2019     51 non-null     float64\n",
      " 10  mean_sat_part_rate  51 non-null     float64\n",
      " 11  mean_act_part_rate  51 non-null     float64\n",
      " 12  mean_annual_gdp     51 non-null     float64\n",
      "dtypes: float64(12), object(1)\n",
      "memory usage: 5.6+ KB\n"
     ]
    },
    {
     "data": {
      "text/html": [
       "<div>\n",
       "<style scoped>\n",
       "    .dataframe tbody tr th:only-of-type {\n",
       "        vertical-align: middle;\n",
       "    }\n",
       "\n",
       "    .dataframe tbody tr th {\n",
       "        vertical-align: top;\n",
       "    }\n",
       "\n",
       "    .dataframe thead th {\n",
       "        text-align: right;\n",
       "    }\n",
       "</style>\n",
       "<table border=\"1\" class=\"dataframe\">\n",
       "  <thead>\n",
       "    <tr style=\"text-align: right;\">\n",
       "      <th></th>\n",
       "      <th>state</th>\n",
       "      <th>sat_part_rate_2017</th>\n",
       "      <th>sat_part_rate_2018</th>\n",
       "      <th>sat_part_rate_2019</th>\n",
       "      <th>act_part_rate_2017</th>\n",
       "      <th>act_part_rate_2018</th>\n",
       "      <th>act_part_rate_2019</th>\n",
       "      <th>annual_gdp_2017</th>\n",
       "      <th>annual_gdp_2018</th>\n",
       "      <th>annual_gdp_2019</th>\n",
       "      <th>mean_sat_part_rate</th>\n",
       "      <th>mean_act_part_rate</th>\n",
       "      <th>mean_annual_gdp</th>\n",
       "    </tr>\n",
       "  </thead>\n",
       "  <tbody>\n",
       "    <tr>\n",
       "      <th>0</th>\n",
       "      <td>Alabama</td>\n",
       "      <td>0.05</td>\n",
       "      <td>0.06</td>\n",
       "      <td>0.07</td>\n",
       "      <td>1.00</td>\n",
       "      <td>1.00</td>\n",
       "      <td>1.00</td>\n",
       "      <td>197566.6</td>\n",
       "      <td>200800.9</td>\n",
       "      <td>203383.9</td>\n",
       "      <td>0.060000</td>\n",
       "      <td>1.000000</td>\n",
       "      <td>200583.800000</td>\n",
       "    </tr>\n",
       "    <tr>\n",
       "      <th>1</th>\n",
       "      <td>Alaska</td>\n",
       "      <td>0.38</td>\n",
       "      <td>0.43</td>\n",
       "      <td>0.41</td>\n",
       "      <td>0.65</td>\n",
       "      <td>0.33</td>\n",
       "      <td>0.38</td>\n",
       "      <td>54129.5</td>\n",
       "      <td>53249.6</td>\n",
       "      <td>53336.5</td>\n",
       "      <td>0.406667</td>\n",
       "      <td>0.453333</td>\n",
       "      <td>53571.866667</td>\n",
       "    </tr>\n",
       "    <tr>\n",
       "      <th>2</th>\n",
       "      <td>Arizona</td>\n",
       "      <td>0.30</td>\n",
       "      <td>0.29</td>\n",
       "      <td>0.31</td>\n",
       "      <td>0.62</td>\n",
       "      <td>0.66</td>\n",
       "      <td>0.73</td>\n",
       "      <td>302455.4</td>\n",
       "      <td>313618.7</td>\n",
       "      <td>323894.3</td>\n",
       "      <td>0.300000</td>\n",
       "      <td>0.670000</td>\n",
       "      <td>313322.800000</td>\n",
       "    </tr>\n",
       "  </tbody>\n",
       "</table>\n",
       "</div>"
      ],
      "text/plain": [
       "     state  sat_part_rate_2017  sat_part_rate_2018  sat_part_rate_2019  \\\n",
       "0  Alabama                0.05                0.06                0.07   \n",
       "1   Alaska                0.38                0.43                0.41   \n",
       "2  Arizona                0.30                0.29                0.31   \n",
       "\n",
       "   act_part_rate_2017  act_part_rate_2018  act_part_rate_2019  \\\n",
       "0                1.00                1.00                1.00   \n",
       "1                0.65                0.33                0.38   \n",
       "2                0.62                0.66                0.73   \n",
       "\n",
       "   annual_gdp_2017  annual_gdp_2018  annual_gdp_2019  mean_sat_part_rate  \\\n",
       "0         197566.6         200800.9         203383.9            0.060000   \n",
       "1          54129.5          53249.6          53336.5            0.406667   \n",
       "2         302455.4         313618.7         323894.3            0.300000   \n",
       "\n",
       "   mean_act_part_rate  mean_annual_gdp  \n",
       "0            1.000000    200583.800000  \n",
       "1            0.453333     53571.866667  \n",
       "2            0.670000    313322.800000  "
      ]
     },
     "execution_count": 43,
     "metadata": {},
     "output_type": "execute_result"
    }
   ],
   "source": [
    "print(dfsat_act_part_gdp_state.shape)\n",
    "dfsat_act_part_gdp_state.info()\n",
    "dfsat_act_part_gdp_state.head(3)"
   ]
  },
  {
   "cell_type": "markdown",
   "metadata": {},
   "source": [
    "**Merged dataframe for SAT Participation Rate, ACT Participation Rate & Annual GDP by State from 2017 to 2019 has been prepared & cleaned for EDA.**"
   ]
  },
  {
   "cell_type": "markdown",
   "metadata": {
    "tags": []
   },
   "source": [
    "#### Dataframe: College enrollment for 2018-19 & 2019-20"
   ]
  },
  {
   "cell_type": "code",
   "execution_count": 44,
   "metadata": {},
   "outputs": [
    {
     "name": "stdout",
     "output_type": "stream",
     "text": [
      "(6807, 2989)\n"
     ]
    },
    {
     "data": {
      "text/html": [
       "<div>\n",
       "<style scoped>\n",
       "    .dataframe tbody tr th:only-of-type {\n",
       "        vertical-align: middle;\n",
       "    }\n",
       "\n",
       "    .dataframe tbody tr th {\n",
       "        vertical-align: top;\n",
       "    }\n",
       "\n",
       "    .dataframe thead th {\n",
       "        text-align: right;\n",
       "    }\n",
       "</style>\n",
       "<table border=\"1\" class=\"dataframe\">\n",
       "  <thead>\n",
       "    <tr style=\"text-align: right;\">\n",
       "      <th></th>\n",
       "      <th>UNITID</th>\n",
       "      <th>OPEID</th>\n",
       "      <th>OPEID6</th>\n",
       "      <th>INSTNM</th>\n",
       "      <th>CITY</th>\n",
       "      <th>STABBR</th>\n",
       "      <th>ZIP</th>\n",
       "      <th>ACCREDAGENCY</th>\n",
       "      <th>INSTURL</th>\n",
       "      <th>NPCURL</th>\n",
       "      <th>...</th>\n",
       "      <th>COUNT_WNE_MALE1_P8</th>\n",
       "      <th>MD_EARN_WNE_MALE1_P8</th>\n",
       "      <th>GT_THRESHOLD_P10</th>\n",
       "      <th>MD_EARN_WNE_INC1_P10</th>\n",
       "      <th>MD_EARN_WNE_INC2_P10</th>\n",
       "      <th>MD_EARN_WNE_INC3_P10</th>\n",
       "      <th>MD_EARN_WNE_INDEP1_P10</th>\n",
       "      <th>MD_EARN_WNE_INDEP0_P10</th>\n",
       "      <th>MD_EARN_WNE_MALE0_P10</th>\n",
       "      <th>MD_EARN_WNE_MALE1_P10</th>\n",
       "    </tr>\n",
       "  </thead>\n",
       "  <tbody>\n",
       "    <tr>\n",
       "      <th>0</th>\n",
       "      <td>100654</td>\n",
       "      <td>100200</td>\n",
       "      <td>1002</td>\n",
       "      <td>Alabama A &amp; M University</td>\n",
       "      <td>Normal</td>\n",
       "      <td>AL</td>\n",
       "      <td>35762</td>\n",
       "      <td>NaN</td>\n",
       "      <td>NaN</td>\n",
       "      <td>NaN</td>\n",
       "      <td>...</td>\n",
       "      <td>834.0</td>\n",
       "      <td>36639.0</td>\n",
       "      <td>0.6044</td>\n",
       "      <td>34076.0</td>\n",
       "      <td>35597.0</td>\n",
       "      <td>43145.0</td>\n",
       "      <td>40299.0</td>\n",
       "      <td>35424.0</td>\n",
       "      <td>36050.0</td>\n",
       "      <td>36377.0</td>\n",
       "    </tr>\n",
       "  </tbody>\n",
       "</table>\n",
       "<p>1 rows × 2989 columns</p>\n",
       "</div>"
      ],
      "text/plain": [
       "   UNITID   OPEID  OPEID6                    INSTNM    CITY STABBR    ZIP  \\\n",
       "0  100654  100200    1002  Alabama A & M University  Normal     AL  35762   \n",
       "\n",
       "   ACCREDAGENCY  INSTURL  NPCURL  ...  COUNT_WNE_MALE1_P8  \\\n",
       "0           NaN      NaN     NaN  ...               834.0   \n",
       "\n",
       "   MD_EARN_WNE_MALE1_P8  GT_THRESHOLD_P10  MD_EARN_WNE_INC1_P10  \\\n",
       "0               36639.0            0.6044               34076.0   \n",
       "\n",
       "   MD_EARN_WNE_INC2_P10  MD_EARN_WNE_INC3_P10  MD_EARN_WNE_INDEP1_P10  \\\n",
       "0               35597.0               43145.0                 40299.0   \n",
       "\n",
       "   MD_EARN_WNE_INDEP0_P10  MD_EARN_WNE_MALE0_P10  MD_EARN_WNE_MALE1_P10  \n",
       "0                 35424.0                36050.0                36377.0  \n",
       "\n",
       "[1 rows x 2989 columns]"
      ]
     },
     "execution_count": 44,
     "metadata": {},
     "output_type": "execute_result"
    }
   ],
   "source": [
    "print(df2018enroll.shape)\n",
    "df2018enroll.head(1)"
   ]
  },
  {
   "cell_type": "code",
   "execution_count": 45,
   "metadata": {},
   "outputs": [
    {
     "name": "stdout",
     "output_type": "stream",
     "text": [
      "(6694, 2989)\n"
     ]
    },
    {
     "data": {
      "text/html": [
       "<div>\n",
       "<style scoped>\n",
       "    .dataframe tbody tr th:only-of-type {\n",
       "        vertical-align: middle;\n",
       "    }\n",
       "\n",
       "    .dataframe tbody tr th {\n",
       "        vertical-align: top;\n",
       "    }\n",
       "\n",
       "    .dataframe thead th {\n",
       "        text-align: right;\n",
       "    }\n",
       "</style>\n",
       "<table border=\"1\" class=\"dataframe\">\n",
       "  <thead>\n",
       "    <tr style=\"text-align: right;\">\n",
       "      <th></th>\n",
       "      <th>UNITID</th>\n",
       "      <th>OPEID</th>\n",
       "      <th>OPEID6</th>\n",
       "      <th>INSTNM</th>\n",
       "      <th>CITY</th>\n",
       "      <th>STABBR</th>\n",
       "      <th>ZIP</th>\n",
       "      <th>ACCREDAGENCY</th>\n",
       "      <th>INSTURL</th>\n",
       "      <th>NPCURL</th>\n",
       "      <th>...</th>\n",
       "      <th>COUNT_WNE_MALE1_P8</th>\n",
       "      <th>MD_EARN_WNE_MALE1_P8</th>\n",
       "      <th>GT_THRESHOLD_P10</th>\n",
       "      <th>MD_EARN_WNE_INC1_P10</th>\n",
       "      <th>MD_EARN_WNE_INC2_P10</th>\n",
       "      <th>MD_EARN_WNE_INC3_P10</th>\n",
       "      <th>MD_EARN_WNE_INDEP1_P10</th>\n",
       "      <th>MD_EARN_WNE_INDEP0_P10</th>\n",
       "      <th>MD_EARN_WNE_MALE0_P10</th>\n",
       "      <th>MD_EARN_WNE_MALE1_P10</th>\n",
       "    </tr>\n",
       "  </thead>\n",
       "  <tbody>\n",
       "    <tr>\n",
       "      <th>0</th>\n",
       "      <td>100654</td>\n",
       "      <td>100200</td>\n",
       "      <td>1002</td>\n",
       "      <td>Alabama A &amp; M University</td>\n",
       "      <td>Normal</td>\n",
       "      <td>AL</td>\n",
       "      <td>35762</td>\n",
       "      <td>NaN</td>\n",
       "      <td>NaN</td>\n",
       "      <td>NaN</td>\n",
       "      <td>...</td>\n",
       "      <td>NaN</td>\n",
       "      <td>NaN</td>\n",
       "      <td>NaN</td>\n",
       "      <td>NaN</td>\n",
       "      <td>NaN</td>\n",
       "      <td>NaN</td>\n",
       "      <td>NaN</td>\n",
       "      <td>NaN</td>\n",
       "      <td>NaN</td>\n",
       "      <td>NaN</td>\n",
       "    </tr>\n",
       "  </tbody>\n",
       "</table>\n",
       "<p>1 rows × 2989 columns</p>\n",
       "</div>"
      ],
      "text/plain": [
       "   UNITID   OPEID  OPEID6                    INSTNM    CITY STABBR    ZIP  \\\n",
       "0  100654  100200    1002  Alabama A & M University  Normal     AL  35762   \n",
       "\n",
       "   ACCREDAGENCY  INSTURL  NPCURL  ...  COUNT_WNE_MALE1_P8  \\\n",
       "0           NaN      NaN     NaN  ...                 NaN   \n",
       "\n",
       "   MD_EARN_WNE_MALE1_P8  GT_THRESHOLD_P10  MD_EARN_WNE_INC1_P10  \\\n",
       "0                   NaN               NaN                   NaN   \n",
       "\n",
       "   MD_EARN_WNE_INC2_P10  MD_EARN_WNE_INC3_P10  MD_EARN_WNE_INDEP1_P10  \\\n",
       "0                   NaN                   NaN                     NaN   \n",
       "\n",
       "   MD_EARN_WNE_INDEP0_P10  MD_EARN_WNE_MALE0_P10  MD_EARN_WNE_MALE1_P10  \n",
       "0                     NaN                    NaN                    NaN  \n",
       "\n",
       "[1 rows x 2989 columns]"
      ]
     },
     "execution_count": 45,
     "metadata": {},
     "output_type": "execute_result"
    }
   ],
   "source": [
    "print(df2019enroll.shape)\n",
    "df2019enroll.head(1)"
   ]
  },
  {
   "cell_type": "code",
   "execution_count": 46,
   "metadata": {},
   "outputs": [],
   "source": [
    "# Create a new column for average retention rate across student cohort for 2018-19 df\n",
    "\n",
    "df2018enroll['retention_rate_ave'] = (df2018enroll[['RET_FT4', 'RET_FTL4', 'RET_PT4', 'RET_PTL4']].mean(axis=1))"
   ]
  },
  {
   "cell_type": "code",
   "execution_count": 47,
   "metadata": {},
   "outputs": [],
   "source": [
    "# Create a new column for average retention rate across student cohort for 2019-20 df\n",
    "\n",
    "df2019enroll['retention_rate_ave'] = (df2019enroll[['RET_FT4', 'RET_FTL4', 'RET_PT4', 'RET_PTL4']].mean(axis=1))"
   ]
  },
  {
   "cell_type": "code",
   "execution_count": 48,
   "metadata": {},
   "outputs": [],
   "source": [
    "# Remove irrelevant data columns from College enrollment datasets\n",
    "\n",
    "df2018enroll = df2018enroll[['STABBR', 'retention_rate_ave', 'SAT_AVG', 'ACTCMMID']]\n",
    "df2019enroll = df2019enroll[['STABBR', 'retention_rate_ave', 'SAT_AVG', 'ACTCMMID']]\n",
    "\n",
    "# Rename the column headers to something clearer\n",
    "\n",
    "df2018enroll.rename(columns={\"STABBR\": \"statecode\", \"SAT_AVG\": \"sat_mid_score\", \"ACTCMMID\": \"act_mid_score\"}, inplace=True)\n",
    "df2019enroll.rename(columns={\"STABBR\": \"statecode\", \"SAT_AVG\": \"sat_mid_score\", \"ACTCMMID\": \"act_mid_score\"}, inplace=True)"
   ]
  },
  {
   "cell_type": "code",
   "execution_count": 49,
   "metadata": {},
   "outputs": [
    {
     "name": "stdout",
     "output_type": "stream",
     "text": [
      "  statecode  retention_rate_ave  sat_mid_score  act_mid_score\n",
      "0        AK            0.691594         1128.0           22.0\n",
      "1        AL            0.567859         1130.0           23.0\n",
      "2        AR            0.587869         1151.0           23.0\n"
     ]
    },
    {
     "data": {
      "text/html": [
       "<div>\n",
       "<style scoped>\n",
       "    .dataframe tbody tr th:only-of-type {\n",
       "        vertical-align: middle;\n",
       "    }\n",
       "\n",
       "    .dataframe tbody tr th {\n",
       "        vertical-align: top;\n",
       "    }\n",
       "\n",
       "    .dataframe thead th {\n",
       "        text-align: right;\n",
       "    }\n",
       "</style>\n",
       "<table border=\"1\" class=\"dataframe\">\n",
       "  <thead>\n",
       "    <tr style=\"text-align: right;\">\n",
       "      <th></th>\n",
       "      <th>statecode</th>\n",
       "      <th>retention_rate_ave</th>\n",
       "      <th>sat_mid_score</th>\n",
       "      <th>act_mid_score</th>\n",
       "    </tr>\n",
       "  </thead>\n",
       "  <tbody>\n",
       "    <tr>\n",
       "      <th>0</th>\n",
       "      <td>AK</td>\n",
       "      <td>0.623862</td>\n",
       "      <td>1121.0</td>\n",
       "      <td>21.0</td>\n",
       "    </tr>\n",
       "    <tr>\n",
       "      <th>1</th>\n",
       "      <td>AL</td>\n",
       "      <td>0.609627</td>\n",
       "      <td>1131.0</td>\n",
       "      <td>21.5</td>\n",
       "    </tr>\n",
       "    <tr>\n",
       "      <th>2</th>\n",
       "      <td>AR</td>\n",
       "      <td>0.593471</td>\n",
       "      <td>1142.5</td>\n",
       "      <td>23.0</td>\n",
       "    </tr>\n",
       "  </tbody>\n",
       "</table>\n",
       "</div>"
      ],
      "text/plain": [
       "  statecode  retention_rate_ave  sat_mid_score  act_mid_score\n",
       "0        AK            0.623862         1121.0           21.0\n",
       "1        AL            0.609627         1131.0           21.5\n",
       "2        AR            0.593471         1142.5           23.0"
      ]
     },
     "execution_count": 49,
     "metadata": {},
     "output_type": "execute_result"
    }
   ],
   "source": [
    "# Group the dataframe by statecode & display the average retention rate, median SAT score & median ACT score by state level\n",
    "\n",
    "df2018enrollstate = df2018enroll.groupby('statecode').agg({'retention_rate_ave': np.mean,\n",
    "                                                           'sat_mid_score': np.median,\n",
    "                                                           'act_mid_score': np.median}).reset_index()\n",
    "df2019enrollstate = df2019enroll.groupby('statecode').agg({'retention_rate_ave': np.mean,\n",
    "                                                           'sat_mid_score': np.median,\n",
    "                                                           'act_mid_score': np.median}).reset_index()\n",
    "print(df2018enrollstate.head(3))\n",
    "df2019enrollstate.head(3)"
   ]
  },
  {
   "cell_type": "code",
   "execution_count": 50,
   "metadata": {},
   "outputs": [],
   "source": [
    "# Map the long name of US state to their abbreviation & create a new column for the state name\n",
    "\n",
    "us_states = {\"AL\":\"Alabama\", \n",
    "             \"AK\":\"Alaska\", \n",
    "             \"AZ\":\"Arizona\", \n",
    "             \"AR\":\"Arkansas\", \n",
    "             \"CA\":\"California\", \n",
    "             \"CO\":\"Colorado\", \n",
    "             \"CT\":\"Connecticut\",\n",
    "             \"DC\":\"District of Columbia\",\n",
    "             \"DE\":\"Delaware\", \n",
    "             \"FL\":\"Florida\", \n",
    "             \"GA\":\"Georgia\", \n",
    "             \"HI\":\"Hawaii\", \n",
    "             \"ID\":\"Idaho\", \n",
    "             \"IL\":\"Illinois\", \n",
    "             \"IN\":\"Indiana\", \n",
    "             \"IA\":\"Iowa\", \n",
    "             \"KS\":\"Kansas\", \n",
    "             \"KY\":\"Kentucky\", \n",
    "             \"LA\":\"Louisiana\", \n",
    "             \"ME\":\"Maine\", \n",
    "             \"MD\":\"Maryland\",\n",
    "             \"MA\":\"Massachusetts\", \n",
    "             \"MI\":\"Michigan\",\n",
    "             \"MN\":\"Minnesota\",\n",
    "             \"MS\":\"Mississippi\",\n",
    "             \"MO\":\"Missouri\",\n",
    "             \"MT\":\"Montana\",\n",
    "             \"NE\":\"Nebraska\", \n",
    "             \"NV\":\"Nevada\", \n",
    "             \"NH\":\"New Hampshire\", \n",
    "             \"NJ\":\"New Jersey\", \n",
    "             \"NM\":\"New Mexico\", \n",
    "             \"NY\":\"New York\", \n",
    "             \"NC\":\"North Carolina\",\n",
    "             \"ND\":\"North Dakota\", \n",
    "             \"OH\":\"Ohio\",\n",
    "             \"OK\":\"Oklahoma\", \n",
    "             \"OR\":\"Oregon\",\n",
    "             \"PA\":\"Pennsylvania\", \n",
    "             \"RI\":\"Rhode Island\", \n",
    "             \"SC\":\"South Carolina\",\n",
    "             \"SD\":\"South Dakota\",\n",
    "             \"TN\":\"Tennessee\", \n",
    "             \"TX\":\"Texas\", \n",
    "             \"UT\":\"Utah\", \n",
    "             \"VT\":\"Vermont\",\n",
    "             \"VA\":\"Virginia\", \n",
    "             \"WA\":\"Washington\", \n",
    "             \"WV\":\"West Virginia\",\n",
    "             \"WI\":\"Wisconsin\",\n",
    "             \"WY\":\"Wyoming\"}\n",
    "\n",
    "df2018enrollstate['state'] = df2018enrollstate['statecode'].map(us_states)\n",
    "df2019enrollstate['state'] = df2019enrollstate['statecode'].map(us_states)"
   ]
  },
  {
   "cell_type": "code",
   "execution_count": 51,
   "metadata": {},
   "outputs": [
    {
     "name": "stdout",
     "output_type": "stream",
     "text": [
      "(59, 5)\n",
      "<class 'pandas.core.frame.DataFrame'>\n",
      "RangeIndex: 59 entries, 0 to 58\n",
      "Data columns (total 5 columns):\n",
      " #   Column              Non-Null Count  Dtype  \n",
      "---  ------              --------------  -----  \n",
      " 0   statecode           59 non-null     object \n",
      " 1   retention_rate_ave  57 non-null     float64\n",
      " 2   sat_mid_score       52 non-null     float64\n",
      " 3   act_mid_score       51 non-null     float64\n",
      " 4   state               51 non-null     object \n",
      "dtypes: float64(3), object(2)\n",
      "memory usage: 2.4+ KB\n"
     ]
    },
    {
     "data": {
      "text/html": [
       "<div>\n",
       "<style scoped>\n",
       "    .dataframe tbody tr th:only-of-type {\n",
       "        vertical-align: middle;\n",
       "    }\n",
       "\n",
       "    .dataframe tbody tr th {\n",
       "        vertical-align: top;\n",
       "    }\n",
       "\n",
       "    .dataframe thead th {\n",
       "        text-align: right;\n",
       "    }\n",
       "</style>\n",
       "<table border=\"1\" class=\"dataframe\">\n",
       "  <thead>\n",
       "    <tr style=\"text-align: right;\">\n",
       "      <th></th>\n",
       "      <th>statecode</th>\n",
       "      <th>retention_rate_ave</th>\n",
       "      <th>sat_mid_score</th>\n",
       "      <th>act_mid_score</th>\n",
       "      <th>state</th>\n",
       "    </tr>\n",
       "  </thead>\n",
       "  <tbody>\n",
       "    <tr>\n",
       "      <th>0</th>\n",
       "      <td>AK</td>\n",
       "      <td>0.691594</td>\n",
       "      <td>1128.0</td>\n",
       "      <td>22.0</td>\n",
       "      <td>Alaska</td>\n",
       "    </tr>\n",
       "    <tr>\n",
       "      <th>1</th>\n",
       "      <td>AL</td>\n",
       "      <td>0.567859</td>\n",
       "      <td>1130.0</td>\n",
       "      <td>23.0</td>\n",
       "      <td>Alabama</td>\n",
       "    </tr>\n",
       "    <tr>\n",
       "      <th>2</th>\n",
       "      <td>AR</td>\n",
       "      <td>0.587869</td>\n",
       "      <td>1151.0</td>\n",
       "      <td>23.0</td>\n",
       "      <td>Arkansas</td>\n",
       "    </tr>\n",
       "  </tbody>\n",
       "</table>\n",
       "</div>"
      ],
      "text/plain": [
       "  statecode  retention_rate_ave  sat_mid_score  act_mid_score     state\n",
       "0        AK            0.691594         1128.0           22.0    Alaska\n",
       "1        AL            0.567859         1130.0           23.0   Alabama\n",
       "2        AR            0.587869         1151.0           23.0  Arkansas"
      ]
     },
     "execution_count": 51,
     "metadata": {},
     "output_type": "execute_result"
    }
   ],
   "source": [
    "print(df2018enrollstate.shape)\n",
    "df2018enrollstate.info()\n",
    "df2018enrollstate.head(3)"
   ]
  },
  {
   "cell_type": "code",
   "execution_count": 52,
   "metadata": {},
   "outputs": [
    {
     "name": "stdout",
     "output_type": "stream",
     "text": [
      "(59, 5)\n",
      "<class 'pandas.core.frame.DataFrame'>\n",
      "RangeIndex: 59 entries, 0 to 58\n",
      "Data columns (total 5 columns):\n",
      " #   Column              Non-Null Count  Dtype  \n",
      "---  ------              --------------  -----  \n",
      " 0   statecode           59 non-null     object \n",
      " 1   retention_rate_ave  57 non-null     float64\n",
      " 2   sat_mid_score       53 non-null     float64\n",
      " 3   act_mid_score       52 non-null     float64\n",
      " 4   state               51 non-null     object \n",
      "dtypes: float64(3), object(2)\n",
      "memory usage: 2.4+ KB\n"
     ]
    },
    {
     "data": {
      "text/html": [
       "<div>\n",
       "<style scoped>\n",
       "    .dataframe tbody tr th:only-of-type {\n",
       "        vertical-align: middle;\n",
       "    }\n",
       "\n",
       "    .dataframe tbody tr th {\n",
       "        vertical-align: top;\n",
       "    }\n",
       "\n",
       "    .dataframe thead th {\n",
       "        text-align: right;\n",
       "    }\n",
       "</style>\n",
       "<table border=\"1\" class=\"dataframe\">\n",
       "  <thead>\n",
       "    <tr style=\"text-align: right;\">\n",
       "      <th></th>\n",
       "      <th>statecode</th>\n",
       "      <th>retention_rate_ave</th>\n",
       "      <th>sat_mid_score</th>\n",
       "      <th>act_mid_score</th>\n",
       "      <th>state</th>\n",
       "    </tr>\n",
       "  </thead>\n",
       "  <tbody>\n",
       "    <tr>\n",
       "      <th>0</th>\n",
       "      <td>AK</td>\n",
       "      <td>0.623862</td>\n",
       "      <td>1121.0</td>\n",
       "      <td>21.0</td>\n",
       "      <td>Alaska</td>\n",
       "    </tr>\n",
       "    <tr>\n",
       "      <th>1</th>\n",
       "      <td>AL</td>\n",
       "      <td>0.609627</td>\n",
       "      <td>1131.0</td>\n",
       "      <td>21.5</td>\n",
       "      <td>Alabama</td>\n",
       "    </tr>\n",
       "    <tr>\n",
       "      <th>2</th>\n",
       "      <td>AR</td>\n",
       "      <td>0.593471</td>\n",
       "      <td>1142.5</td>\n",
       "      <td>23.0</td>\n",
       "      <td>Arkansas</td>\n",
       "    </tr>\n",
       "  </tbody>\n",
       "</table>\n",
       "</div>"
      ],
      "text/plain": [
       "  statecode  retention_rate_ave  sat_mid_score  act_mid_score     state\n",
       "0        AK            0.623862         1121.0           21.0    Alaska\n",
       "1        AL            0.609627         1131.0           21.5   Alabama\n",
       "2        AR            0.593471         1142.5           23.0  Arkansas"
      ]
     },
     "execution_count": 52,
     "metadata": {},
     "output_type": "execute_result"
    }
   ],
   "source": [
    "print(df2019enrollstate.shape)\n",
    "df2019enrollstate.info()\n",
    "df2019enrollstate.head(3)"
   ]
  },
  {
   "cell_type": "markdown",
   "metadata": {},
   "source": [
    "There are 8 data elements which have US State abbreviation but no US State full name. We'll need to locate what are those \"states\" in question\n",
    "- 'statecode' element count: 59\n",
    "- 'state' element count: 51"
   ]
  },
  {
   "cell_type": "code",
   "execution_count": 53,
   "metadata": {},
   "outputs": [
    {
     "data": {
      "text/html": [
       "<div>\n",
       "<style scoped>\n",
       "    .dataframe tbody tr th:only-of-type {\n",
       "        vertical-align: middle;\n",
       "    }\n",
       "\n",
       "    .dataframe tbody tr th {\n",
       "        vertical-align: top;\n",
       "    }\n",
       "\n",
       "    .dataframe thead th {\n",
       "        text-align: right;\n",
       "    }\n",
       "</style>\n",
       "<table border=\"1\" class=\"dataframe\">\n",
       "  <thead>\n",
       "    <tr style=\"text-align: right;\">\n",
       "      <th></th>\n",
       "      <th>statecode</th>\n",
       "      <th>retention_rate_ave</th>\n",
       "      <th>sat_mid_score</th>\n",
       "      <th>act_mid_score</th>\n",
       "      <th>state</th>\n",
       "    </tr>\n",
       "  </thead>\n",
       "  <tbody>\n",
       "    <tr>\n",
       "      <th>3</th>\n",
       "      <td>AS</td>\n",
       "      <td>NaN</td>\n",
       "      <td>NaN</td>\n",
       "      <td>NaN</td>\n",
       "      <td>NaN</td>\n",
       "    </tr>\n",
       "    <tr>\n",
       "      <th>11</th>\n",
       "      <td>FM</td>\n",
       "      <td>0.476850</td>\n",
       "      <td>NaN</td>\n",
       "      <td>NaN</td>\n",
       "      <td>NaN</td>\n",
       "    </tr>\n",
       "    <tr>\n",
       "      <th>13</th>\n",
       "      <td>GU</td>\n",
       "      <td>0.368833</td>\n",
       "      <td>NaN</td>\n",
       "      <td>NaN</td>\n",
       "      <td>NaN</td>\n",
       "    </tr>\n",
       "    <tr>\n",
       "      <th>25</th>\n",
       "      <td>MH</td>\n",
       "      <td>NaN</td>\n",
       "      <td>NaN</td>\n",
       "      <td>NaN</td>\n",
       "      <td>NaN</td>\n",
       "    </tr>\n",
       "    <tr>\n",
       "      <th>29</th>\n",
       "      <td>MP</td>\n",
       "      <td>0.604150</td>\n",
       "      <td>NaN</td>\n",
       "      <td>NaN</td>\n",
       "      <td>NaN</td>\n",
       "    </tr>\n",
       "    <tr>\n",
       "      <th>44</th>\n",
       "      <td>PR</td>\n",
       "      <td>0.658315</td>\n",
       "      <td>1009.0</td>\n",
       "      <td>NaN</td>\n",
       "      <td>NaN</td>\n",
       "    </tr>\n",
       "    <tr>\n",
       "      <th>45</th>\n",
       "      <td>PW</td>\n",
       "      <td>0.470500</td>\n",
       "      <td>NaN</td>\n",
       "      <td>NaN</td>\n",
       "      <td>NaN</td>\n",
       "    </tr>\n",
       "    <tr>\n",
       "      <th>53</th>\n",
       "      <td>VI</td>\n",
       "      <td>0.597750</td>\n",
       "      <td>NaN</td>\n",
       "      <td>NaN</td>\n",
       "      <td>NaN</td>\n",
       "    </tr>\n",
       "  </tbody>\n",
       "</table>\n",
       "</div>"
      ],
      "text/plain": [
       "   statecode  retention_rate_ave  sat_mid_score  act_mid_score state\n",
       "3         AS                 NaN            NaN            NaN   NaN\n",
       "11        FM            0.476850            NaN            NaN   NaN\n",
       "13        GU            0.368833            NaN            NaN   NaN\n",
       "25        MH                 NaN            NaN            NaN   NaN\n",
       "29        MP            0.604150            NaN            NaN   NaN\n",
       "44        PR            0.658315         1009.0            NaN   NaN\n",
       "45        PW            0.470500            NaN            NaN   NaN\n",
       "53        VI            0.597750            NaN            NaN   NaN"
      ]
     },
     "execution_count": 53,
     "metadata": {},
     "output_type": "execute_result"
    }
   ],
   "source": [
    "# Locate the rows with NaN data elements\n",
    "df2018enrollstate[df2018enrollstate['state'].isna()]"
   ]
  },
  {
   "cell_type": "code",
   "execution_count": 54,
   "metadata": {},
   "outputs": [
    {
     "data": {
      "text/html": [
       "<div>\n",
       "<style scoped>\n",
       "    .dataframe tbody tr th:only-of-type {\n",
       "        vertical-align: middle;\n",
       "    }\n",
       "\n",
       "    .dataframe tbody tr th {\n",
       "        vertical-align: top;\n",
       "    }\n",
       "\n",
       "    .dataframe thead th {\n",
       "        text-align: right;\n",
       "    }\n",
       "</style>\n",
       "<table border=\"1\" class=\"dataframe\">\n",
       "  <thead>\n",
       "    <tr style=\"text-align: right;\">\n",
       "      <th></th>\n",
       "      <th>statecode</th>\n",
       "      <th>retention_rate_ave</th>\n",
       "      <th>sat_mid_score</th>\n",
       "      <th>act_mid_score</th>\n",
       "      <th>state</th>\n",
       "    </tr>\n",
       "  </thead>\n",
       "  <tbody>\n",
       "    <tr>\n",
       "      <th>3</th>\n",
       "      <td>AS</td>\n",
       "      <td>NaN</td>\n",
       "      <td>NaN</td>\n",
       "      <td>NaN</td>\n",
       "      <td>NaN</td>\n",
       "    </tr>\n",
       "    <tr>\n",
       "      <th>11</th>\n",
       "      <td>FM</td>\n",
       "      <td>0.591600</td>\n",
       "      <td>NaN</td>\n",
       "      <td>NaN</td>\n",
       "      <td>NaN</td>\n",
       "    </tr>\n",
       "    <tr>\n",
       "      <th>13</th>\n",
       "      <td>GU</td>\n",
       "      <td>0.556483</td>\n",
       "      <td>NaN</td>\n",
       "      <td>NaN</td>\n",
       "      <td>NaN</td>\n",
       "    </tr>\n",
       "    <tr>\n",
       "      <th>25</th>\n",
       "      <td>MH</td>\n",
       "      <td>NaN</td>\n",
       "      <td>NaN</td>\n",
       "      <td>NaN</td>\n",
       "      <td>NaN</td>\n",
       "    </tr>\n",
       "    <tr>\n",
       "      <th>29</th>\n",
       "      <td>MP</td>\n",
       "      <td>0.625000</td>\n",
       "      <td>NaN</td>\n",
       "      <td>NaN</td>\n",
       "      <td>NaN</td>\n",
       "    </tr>\n",
       "    <tr>\n",
       "      <th>44</th>\n",
       "      <td>PR</td>\n",
       "      <td>0.651643</td>\n",
       "      <td>1029.0</td>\n",
       "      <td>NaN</td>\n",
       "      <td>NaN</td>\n",
       "    </tr>\n",
       "    <tr>\n",
       "      <th>45</th>\n",
       "      <td>PW</td>\n",
       "      <td>0.583800</td>\n",
       "      <td>NaN</td>\n",
       "      <td>NaN</td>\n",
       "      <td>NaN</td>\n",
       "    </tr>\n",
       "    <tr>\n",
       "      <th>53</th>\n",
       "      <td>VI</td>\n",
       "      <td>0.581550</td>\n",
       "      <td>913.0</td>\n",
       "      <td>17.0</td>\n",
       "      <td>NaN</td>\n",
       "    </tr>\n",
       "  </tbody>\n",
       "</table>\n",
       "</div>"
      ],
      "text/plain": [
       "   statecode  retention_rate_ave  sat_mid_score  act_mid_score state\n",
       "3         AS                 NaN            NaN            NaN   NaN\n",
       "11        FM            0.591600            NaN            NaN   NaN\n",
       "13        GU            0.556483            NaN            NaN   NaN\n",
       "25        MH                 NaN            NaN            NaN   NaN\n",
       "29        MP            0.625000            NaN            NaN   NaN\n",
       "44        PR            0.651643         1029.0            NaN   NaN\n",
       "45        PW            0.583800            NaN            NaN   NaN\n",
       "53        VI            0.581550          913.0           17.0   NaN"
      ]
     },
     "execution_count": 54,
     "metadata": {},
     "output_type": "execute_result"
    }
   ],
   "source": [
    "df2019enrollstate[df2019enrollstate['state'].isna()]"
   ]
  },
  {
   "cell_type": "markdown",
   "metadata": {},
   "source": [
    "According to US Postal Code standards ([source](https://pe.usps.com/text/pub28/28apb.htm)), the list of these state post codes are as below\n",
    "\n",
    "USPS PostCode | State Name\n",
    "---|---\n",
    "AS|American Samoa\n",
    "FM|Federated States of Micronesia\n",
    "GU|Guam\n",
    "MH|Marshall Islands\n",
    "MP|Northern Mariana Islands\n",
    "PR|Puerto Rico\n",
    "PW|Palau\n",
    "VI|Virgin Islands\n",
    "\n",
    "Thus, we can remove those rows as none of them are considered as US States."
   ]
  },
  {
   "cell_type": "code",
   "execution_count": 55,
   "metadata": {},
   "outputs": [],
   "source": [
    "# Remove US Inhabitated territories from dataframe\n",
    "\n",
    "df2018enrollstate = df2018enrollstate.loc[df2018enrollstate['state'].notnull(),:].reset_index(drop=True)\n",
    "df2019enrollstate = df2019enrollstate.loc[df2019enrollstate['state'].notnull(),:].reset_index(drop=True)"
   ]
  },
  {
   "cell_type": "code",
   "execution_count": 56,
   "metadata": {},
   "outputs": [],
   "source": [
    "# Shift 'state' column to the most left side of dataframe\n",
    "\n",
    "left_col = df2018enrollstate.pop('state')\n",
    "df2018enrollstate.insert(0, 'state', left_col)\n",
    "\n",
    "first_col = df2019enrollstate.pop('state')\n",
    "df2019enrollstate.insert(0, 'state', first_col)"
   ]
  },
  {
   "cell_type": "code",
   "execution_count": 57,
   "metadata": {},
   "outputs": [
    {
     "name": "stdout",
     "output_type": "stream",
     "text": [
      "(51, 5)\n",
      "<class 'pandas.core.frame.DataFrame'>\n",
      "RangeIndex: 51 entries, 0 to 50\n",
      "Data columns (total 5 columns):\n",
      " #   Column              Non-Null Count  Dtype  \n",
      "---  ------              --------------  -----  \n",
      " 0   state               51 non-null     object \n",
      " 1   statecode           51 non-null     object \n",
      " 2   retention_rate_ave  51 non-null     float64\n",
      " 3   sat_mid_score       51 non-null     float64\n",
      " 4   act_mid_score       51 non-null     float64\n",
      "dtypes: float64(3), object(2)\n",
      "memory usage: 2.1+ KB\n"
     ]
    },
    {
     "data": {
      "text/html": [
       "<div>\n",
       "<style scoped>\n",
       "    .dataframe tbody tr th:only-of-type {\n",
       "        vertical-align: middle;\n",
       "    }\n",
       "\n",
       "    .dataframe tbody tr th {\n",
       "        vertical-align: top;\n",
       "    }\n",
       "\n",
       "    .dataframe thead th {\n",
       "        text-align: right;\n",
       "    }\n",
       "</style>\n",
       "<table border=\"1\" class=\"dataframe\">\n",
       "  <thead>\n",
       "    <tr style=\"text-align: right;\">\n",
       "      <th></th>\n",
       "      <th>state</th>\n",
       "      <th>statecode</th>\n",
       "      <th>retention_rate_ave</th>\n",
       "      <th>sat_mid_score</th>\n",
       "      <th>act_mid_score</th>\n",
       "    </tr>\n",
       "  </thead>\n",
       "  <tbody>\n",
       "    <tr>\n",
       "      <th>0</th>\n",
       "      <td>Alaska</td>\n",
       "      <td>AK</td>\n",
       "      <td>0.691594</td>\n",
       "      <td>1128.0</td>\n",
       "      <td>22.0</td>\n",
       "    </tr>\n",
       "    <tr>\n",
       "      <th>1</th>\n",
       "      <td>Alabama</td>\n",
       "      <td>AL</td>\n",
       "      <td>0.567859</td>\n",
       "      <td>1130.0</td>\n",
       "      <td>23.0</td>\n",
       "    </tr>\n",
       "    <tr>\n",
       "      <th>2</th>\n",
       "      <td>Arkansas</td>\n",
       "      <td>AR</td>\n",
       "      <td>0.587869</td>\n",
       "      <td>1151.0</td>\n",
       "      <td>23.0</td>\n",
       "    </tr>\n",
       "  </tbody>\n",
       "</table>\n",
       "</div>"
      ],
      "text/plain": [
       "      state statecode  retention_rate_ave  sat_mid_score  act_mid_score\n",
       "0    Alaska        AK            0.691594         1128.0           22.0\n",
       "1   Alabama        AL            0.567859         1130.0           23.0\n",
       "2  Arkansas        AR            0.587869         1151.0           23.0"
      ]
     },
     "execution_count": 57,
     "metadata": {},
     "output_type": "execute_result"
    }
   ],
   "source": [
    "print(df2018enrollstate.shape)\n",
    "df2018enrollstate.info()\n",
    "df2018enrollstate.head(3)"
   ]
  },
  {
   "cell_type": "code",
   "execution_count": 58,
   "metadata": {},
   "outputs": [
    {
     "name": "stdout",
     "output_type": "stream",
     "text": [
      "(51, 5)\n",
      "<class 'pandas.core.frame.DataFrame'>\n",
      "RangeIndex: 51 entries, 0 to 50\n",
      "Data columns (total 5 columns):\n",
      " #   Column              Non-Null Count  Dtype  \n",
      "---  ------              --------------  -----  \n",
      " 0   state               51 non-null     object \n",
      " 1   statecode           51 non-null     object \n",
      " 2   retention_rate_ave  51 non-null     float64\n",
      " 3   sat_mid_score       51 non-null     float64\n",
      " 4   act_mid_score       51 non-null     float64\n",
      "dtypes: float64(3), object(2)\n",
      "memory usage: 2.1+ KB\n"
     ]
    },
    {
     "data": {
      "text/html": [
       "<div>\n",
       "<style scoped>\n",
       "    .dataframe tbody tr th:only-of-type {\n",
       "        vertical-align: middle;\n",
       "    }\n",
       "\n",
       "    .dataframe tbody tr th {\n",
       "        vertical-align: top;\n",
       "    }\n",
       "\n",
       "    .dataframe thead th {\n",
       "        text-align: right;\n",
       "    }\n",
       "</style>\n",
       "<table border=\"1\" class=\"dataframe\">\n",
       "  <thead>\n",
       "    <tr style=\"text-align: right;\">\n",
       "      <th></th>\n",
       "      <th>state</th>\n",
       "      <th>statecode</th>\n",
       "      <th>retention_rate_ave</th>\n",
       "      <th>sat_mid_score</th>\n",
       "      <th>act_mid_score</th>\n",
       "    </tr>\n",
       "  </thead>\n",
       "  <tbody>\n",
       "    <tr>\n",
       "      <th>0</th>\n",
       "      <td>Alaska</td>\n",
       "      <td>AK</td>\n",
       "      <td>0.623862</td>\n",
       "      <td>1121.0</td>\n",
       "      <td>21.0</td>\n",
       "    </tr>\n",
       "    <tr>\n",
       "      <th>1</th>\n",
       "      <td>Alabama</td>\n",
       "      <td>AL</td>\n",
       "      <td>0.609627</td>\n",
       "      <td>1131.0</td>\n",
       "      <td>21.5</td>\n",
       "    </tr>\n",
       "    <tr>\n",
       "      <th>2</th>\n",
       "      <td>Arkansas</td>\n",
       "      <td>AR</td>\n",
       "      <td>0.593471</td>\n",
       "      <td>1142.5</td>\n",
       "      <td>23.0</td>\n",
       "    </tr>\n",
       "  </tbody>\n",
       "</table>\n",
       "</div>"
      ],
      "text/plain": [
       "      state statecode  retention_rate_ave  sat_mid_score  act_mid_score\n",
       "0    Alaska        AK            0.623862         1121.0           21.0\n",
       "1   Alabama        AL            0.609627         1131.0           21.5\n",
       "2  Arkansas        AR            0.593471         1142.5           23.0"
      ]
     },
     "execution_count": 58,
     "metadata": {},
     "output_type": "execute_result"
    }
   ],
   "source": [
    "print(df2019enrollstate.shape)\n",
    "df2019enrollstate.info()\n",
    "df2019enrollstate.head(3)"
   ]
  },
  {
   "cell_type": "markdown",
   "metadata": {},
   "source": [
    "**Dataframe for 2018-19 & 2019-20 College Enrollment have been prepared & cleaned for EDA.**"
   ]
  },
  {
   "cell_type": "markdown",
   "metadata": {
    "tags": []
   },
   "source": [
    "#### Dataframe: Ranges of Accepted ACT & SAT Student Scores by Colleges"
   ]
  },
  {
   "cell_type": "code",
   "execution_count": 59,
   "metadata": {},
   "outputs": [
    {
     "name": "stdout",
     "output_type": "stream",
     "text": [
      "(416, 8)\n",
      "<class 'pandas.core.frame.DataFrame'>\n",
      "RangeIndex: 416 entries, 0 to 415\n",
      "Data columns (total 8 columns):\n",
      " #   Column                          Non-Null Count  Dtype \n",
      "---  ------                          --------------  ----- \n",
      " 0   School                          416 non-null    object\n",
      " 1   Test Optional?                  416 non-null    object\n",
      " 2   Applies to Class Year(s)        390 non-null    object\n",
      " 3   Policy Details                  416 non-null    object\n",
      " 4   Number of Applicants            416 non-null    int64 \n",
      " 5   Accept Rate                     416 non-null    object\n",
      " 6   SAT Total 25th-75th Percentile  416 non-null    object\n",
      " 7   ACT Total 25th-75th Percentile  416 non-null    object\n",
      "dtypes: int64(1), object(7)\n",
      "memory usage: 26.1+ KB\n"
     ]
    },
    {
     "data": {
      "text/html": [
       "<div>\n",
       "<style scoped>\n",
       "    .dataframe tbody tr th:only-of-type {\n",
       "        vertical-align: middle;\n",
       "    }\n",
       "\n",
       "    .dataframe tbody tr th {\n",
       "        vertical-align: top;\n",
       "    }\n",
       "\n",
       "    .dataframe thead th {\n",
       "        text-align: right;\n",
       "    }\n",
       "</style>\n",
       "<table border=\"1\" class=\"dataframe\">\n",
       "  <thead>\n",
       "    <tr style=\"text-align: right;\">\n",
       "      <th></th>\n",
       "      <th>School</th>\n",
       "      <th>Test Optional?</th>\n",
       "      <th>Applies to Class Year(s)</th>\n",
       "      <th>Policy Details</th>\n",
       "      <th>Number of Applicants</th>\n",
       "      <th>Accept Rate</th>\n",
       "      <th>SAT Total 25th-75th Percentile</th>\n",
       "      <th>ACT Total 25th-75th Percentile</th>\n",
       "    </tr>\n",
       "  </thead>\n",
       "  <tbody>\n",
       "    <tr>\n",
       "      <th>0</th>\n",
       "      <td>Stanford University</td>\n",
       "      <td>Yes</td>\n",
       "      <td>2021</td>\n",
       "      <td>Stanford has adopted a one-year test optional ...</td>\n",
       "      <td>47452</td>\n",
       "      <td>4.3%</td>\n",
       "      <td>1440-1570</td>\n",
       "      <td>32-35</td>\n",
       "    </tr>\n",
       "    <tr>\n",
       "      <th>1</th>\n",
       "      <td>Harvard College</td>\n",
       "      <td>Yes</td>\n",
       "      <td>2021</td>\n",
       "      <td>Harvard has adopted a one-year test optional p...</td>\n",
       "      <td>42749</td>\n",
       "      <td>4.7%</td>\n",
       "      <td>1460-1580</td>\n",
       "      <td>33-35</td>\n",
       "    </tr>\n",
       "    <tr>\n",
       "      <th>2</th>\n",
       "      <td>Princeton University</td>\n",
       "      <td>Yes</td>\n",
       "      <td>2021</td>\n",
       "      <td>Princeton has adopted a one-year test optional...</td>\n",
       "      <td>35370</td>\n",
       "      <td>5.5%</td>\n",
       "      <td>1440-1570</td>\n",
       "      <td>32-35</td>\n",
       "    </tr>\n",
       "  </tbody>\n",
       "</table>\n",
       "</div>"
      ],
      "text/plain": [
       "                 School Test Optional? Applies to Class Year(s)  \\\n",
       "0   Stanford University            Yes                     2021   \n",
       "1       Harvard College            Yes                     2021   \n",
       "2  Princeton University            Yes                     2021   \n",
       "\n",
       "                                      Policy Details  Number of Applicants  \\\n",
       "0  Stanford has adopted a one-year test optional ...                 47452   \n",
       "1  Harvard has adopted a one-year test optional p...                 42749   \n",
       "2  Princeton has adopted a one-year test optional...                 35370   \n",
       "\n",
       "  Accept Rate SAT Total 25th-75th Percentile ACT Total 25th-75th Percentile  \n",
       "0        4.3%                      1440-1570                          32-35  \n",
       "1        4.7%                      1460-1580                          33-35  \n",
       "2        5.5%                      1440-1570                          32-35  "
      ]
     },
     "execution_count": 59,
     "metadata": {},
     "output_type": "execute_result"
    }
   ],
   "source": [
    "# Preliminary Data checking\n",
    "print(dfsatactbycollege.shape)\n",
    "dfsatactbycollege.info()\n",
    "dfsatactbycollege.head(3)"
   ]
  },
  {
   "cell_type": "code",
   "execution_count": 60,
   "metadata": {},
   "outputs": [
    {
     "data": {
      "text/plain": [
       "array(['Yes', 'Yes (TB)', 'Yes*', 'Yes (TF)', 'No'], dtype=object)"
      ]
     },
     "execution_count": 60,
     "metadata": {},
     "output_type": "execute_result"
    }
   ],
   "source": [
    "# Show all unique data values under 'Test Optional?' column\n",
    "dfsatactbycollege['Test Optional?'].unique()"
   ]
  },
  {
   "cell_type": "markdown",
   "metadata": {},
   "source": [
    "**Quick findings**\n",
    "* 'Accept Rate' is captured as a object type. It needs to be converted to a float.\n",
    "* There are more than 2 unique elements in 'Test Optional?' column. We need to bin the 'Yes' values together."
   ]
  },
  {
   "cell_type": "code",
   "execution_count": 61,
   "metadata": {},
   "outputs": [],
   "source": [
    "# convert the Test Optional? value into a either Yes or No series\n",
    "\n",
    "dfsatactbycollege['Test Optional?'].replace('Yes (TB)', 'Yes', inplace=True)\n",
    "dfsatactbycollege['Test Optional?'].replace('Yes*', 'Yes', inplace=True)\n",
    "dfsatactbycollege['Test Optional?'].replace('Yes (TF)', 'Yes', inplace=True)"
   ]
  },
  {
   "cell_type": "code",
   "execution_count": 62,
   "metadata": {},
   "outputs": [],
   "source": [
    "# change the accept rate into a float number\n",
    "\n",
    "dfsatactbycollege['Accept Rate'] = dfsatactbycollege['Accept Rate'].map(percent_to_fltrate)"
   ]
  },
  {
   "cell_type": "code",
   "execution_count": 63,
   "metadata": {},
   "outputs": [],
   "source": [
    "# Remove data series that are irrelevant to the EDA\n",
    "\n",
    "dfsatactbycollege = dfsatactbycollege[['School','Test Optional?','Number of Applicants','Accept Rate']]"
   ]
  },
  {
   "cell_type": "code",
   "execution_count": 64,
   "metadata": {},
   "outputs": [
    {
     "data": {
      "text/plain": [
       "Index(['school', 'test optional?', 'number of applicants', 'accept rate'], dtype='object')"
      ]
     },
     "execution_count": 64,
     "metadata": {},
     "output_type": "execute_result"
    }
   ],
   "source": [
    "# Lowercase the column headers\n",
    "dfsatactbycollege.columns = dfsatactbycollege.columns.str.lower()\n",
    "dfsatactbycollege.columns"
   ]
  },
  {
   "cell_type": "code",
   "execution_count": 65,
   "metadata": {},
   "outputs": [
    {
     "name": "stdout",
     "output_type": "stream",
     "text": [
      "(416, 4)\n",
      "<class 'pandas.core.frame.DataFrame'>\n",
      "RangeIndex: 416 entries, 0 to 415\n",
      "Data columns (total 4 columns):\n",
      " #   Column                Non-Null Count  Dtype  \n",
      "---  ------                --------------  -----  \n",
      " 0   school                416 non-null    object \n",
      " 1   test optional?        416 non-null    object \n",
      " 2   number of applicants  416 non-null    int64  \n",
      " 3   accept rate           416 non-null    float64\n",
      "dtypes: float64(1), int64(1), object(2)\n",
      "memory usage: 13.1+ KB\n"
     ]
    },
    {
     "data": {
      "text/html": [
       "<div>\n",
       "<style scoped>\n",
       "    .dataframe tbody tr th:only-of-type {\n",
       "        vertical-align: middle;\n",
       "    }\n",
       "\n",
       "    .dataframe tbody tr th {\n",
       "        vertical-align: top;\n",
       "    }\n",
       "\n",
       "    .dataframe thead th {\n",
       "        text-align: right;\n",
       "    }\n",
       "</style>\n",
       "<table border=\"1\" class=\"dataframe\">\n",
       "  <thead>\n",
       "    <tr style=\"text-align: right;\">\n",
       "      <th></th>\n",
       "      <th>school</th>\n",
       "      <th>test optional?</th>\n",
       "      <th>number of applicants</th>\n",
       "      <th>accept rate</th>\n",
       "    </tr>\n",
       "  </thead>\n",
       "  <tbody>\n",
       "    <tr>\n",
       "      <th>0</th>\n",
       "      <td>Stanford University</td>\n",
       "      <td>Yes</td>\n",
       "      <td>47452</td>\n",
       "      <td>0.043</td>\n",
       "    </tr>\n",
       "    <tr>\n",
       "      <th>1</th>\n",
       "      <td>Harvard College</td>\n",
       "      <td>Yes</td>\n",
       "      <td>42749</td>\n",
       "      <td>0.047</td>\n",
       "    </tr>\n",
       "    <tr>\n",
       "      <th>2</th>\n",
       "      <td>Princeton University</td>\n",
       "      <td>Yes</td>\n",
       "      <td>35370</td>\n",
       "      <td>0.055</td>\n",
       "    </tr>\n",
       "  </tbody>\n",
       "</table>\n",
       "</div>"
      ],
      "text/plain": [
       "                 school test optional?  number of applicants  accept rate\n",
       "0   Stanford University            Yes                 47452        0.043\n",
       "1       Harvard College            Yes                 42749        0.047\n",
       "2  Princeton University            Yes                 35370        0.055"
      ]
     },
     "execution_count": 65,
     "metadata": {},
     "output_type": "execute_result"
    }
   ],
   "source": [
    "print(dfsatactbycollege.shape)\n",
    "dfsatactbycollege.info()\n",
    "dfsatactbycollege.head(3)"
   ]
  },
  {
   "cell_type": "markdown",
   "metadata": {},
   "source": [
    "**Dataframe for acceptance rate for US colleges admission has been prepared & cleaned for EDA.**"
   ]
  },
  {
   "cell_type": "markdown",
   "metadata": {
    "tags": []
   },
   "source": [
    "### Final set of cleaned/merged dataframes to be used for EDA"
   ]
  },
  {
   "cell_type": "markdown",
   "metadata": {},
   "source": [
    "1. SAT Participation Rate, ACT Participation Rate & Annual GDP by State\n",
    "    - dfsat_act_part_gdp_state\n",
    "2. College enrollment data by State\n",
    "    - df2019enrollstate\n",
    "    - df2018enrollstate\n",
    "3. Acceptance rate for US colleges admission\n",
    "    - dfsatactbycollege"
   ]
  },
  {
   "cell_type": "markdown",
   "metadata": {},
   "source": [
    "**Export cleaned dataframes as csv files**"
   ]
  },
  {
   "cell_type": "code",
   "execution_count": 66,
   "metadata": {},
   "outputs": [],
   "source": [
    "import os\n",
    "if not os.path.exists('../output'):\n",
    "    os.makedirs('../output')\n",
    "    \n",
    "dfsat_act_part_gdp_state.to_csv('../output/sat_act_part_gdp_state.csv', index=False)\n",
    "df2019enrollstate.to_csv('../output/2019enrollstate.csv', index=False)\n",
    "df2018enrollstate.to_csv('../output/2018enrollstate.csv', index=False)\n",
    "dfsatactbycollege.to_csv('../output/satactbycollege.csv', index=False)"
   ]
  },
  {
   "cell_type": "markdown",
   "metadata": {
    "tags": []
   },
   "source": [
    "### Data Dictionary"
   ]
  },
  {
   "cell_type": "markdown",
   "metadata": {
    "tags": []
   },
   "source": [
    "#### SAT Participation Rate, ACT Participation Rate & Annual GDP by State Dataframe\n",
    "\n",
    "|Feature|Type|Description\n",
    "|---|---|---\n",
    "|state|object|U.S. State Name\n",
    "|sat_part_rate_2017|float|Participation rate of 2017 high school graduate who took SAT in their state\n",
    "|sat_part_rate_2018|float|Participation rate of 2018 high school graduate who took SAT in their state\n",
    "|sat_part_rate_2019|float|Participation rate of 2019 high school graduate who took SAT in their state\n",
    "|act_part_rate_2017|float|Participation rate of 2017 high school graduate who took ACT in their state\n",
    "|act_part_rate_2018|float|Participation rate of 2018 high school graduate who took ACT in their state\n",
    "|act_part_rate_2019|float|Participation rate of 2019 high school graduate who took ACT in their state\n",
    "|annual_gdp_2017|float|Real annual GDP of the state for 2017. Measured in millions of chained 2012 dollars\n",
    "|annual_gdp_2018|float|Real annual GDP of the state for 2018. Measured in millions of chained 2012 dollars\n",
    "|annual_gdp_2019|float|Real annual GDP of the state for 2019. Measured in millions of chained 2012 dollars\n",
    "|mean_sat_part_rate|float|Average Participation rate of high school graduate who took SAT in their state across 2017 to 2019\n",
    "|mean_act_part_rate|float|Average Participation rate of high school graduate who took ACT in their state across 2017 to 2019\n",
    "|mean_annual_gdp|float|Average real annual GDP of the state across 2017 to 2019. Measured in millions of chained 2012 dollars"
   ]
  },
  {
   "cell_type": "markdown",
   "metadata": {},
   "source": [
    "#### College enrollment data by State Dataframe\n",
    "\n",
    "|Feature|Type|Description\n",
    "|---|---|---\n",
    "|state|object|U.S. State Name\n",
    "|statecode|object|U.S. State Abbreviation based on US Postal Code Standards\n",
    "|retention_rate_ave|float|Average rate of freshman year students by state who continued on to their sophomore year\n",
    "|sat_mid_score|float|Median SAT score of students accepted into college by state\n",
    "|act_mid_score|float|Median ACT score of students accepted into college by state"
   ]
  },
  {
   "cell_type": "markdown",
   "metadata": {},
   "source": [
    "#### Acceptance rate for US colleges admission Dataframe\n",
    "\n",
    "|Feature|Type|Description\n",
    "|---|---|---\n",
    "|school|object|Name of College\n",
    "|test optional?|object|Yes: SAT/ACT are optional for acceptance into this college<br>No: SAT/ACT are mandatory for acceptance into this college\n",
    "|number of applicants|int|Number of applications received by the college\n",
    "|accept rate|float|Rate of students who applied & got accepted into the college"
   ]
  },
  {
   "cell_type": "markdown",
   "metadata": {
    "tags": []
   },
   "source": [
    "## Exploratory Data Analysis"
   ]
  },
  {
   "cell_type": "markdown",
   "metadata": {},
   "source": [
    "### Analysis - SAT/ACT Participation Rate vs Annual GDP by State"
   ]
  },
  {
   "cell_type": "code",
   "execution_count": 67,
   "metadata": {},
   "outputs": [
    {
     "data": {
      "text/html": [
       "<div>\n",
       "<style scoped>\n",
       "    .dataframe tbody tr th:only-of-type {\n",
       "        vertical-align: middle;\n",
       "    }\n",
       "\n",
       "    .dataframe tbody tr th {\n",
       "        vertical-align: top;\n",
       "    }\n",
       "\n",
       "    .dataframe thead th {\n",
       "        text-align: right;\n",
       "    }\n",
       "</style>\n",
       "<table border=\"1\" class=\"dataframe\">\n",
       "  <thead>\n",
       "    <tr style=\"text-align: right;\">\n",
       "      <th></th>\n",
       "      <th>sat_part_rate_2017</th>\n",
       "      <th>sat_part_rate_2018</th>\n",
       "      <th>sat_part_rate_2019</th>\n",
       "      <th>act_part_rate_2017</th>\n",
       "      <th>act_part_rate_2018</th>\n",
       "      <th>act_part_rate_2019</th>\n",
       "      <th>annual_gdp_2017</th>\n",
       "      <th>annual_gdp_2018</th>\n",
       "      <th>annual_gdp_2019</th>\n",
       "      <th>mean_sat_part_rate</th>\n",
       "      <th>mean_act_part_rate</th>\n",
       "      <th>mean_annual_gdp</th>\n",
       "    </tr>\n",
       "  </thead>\n",
       "  <tbody>\n",
       "    <tr>\n",
       "      <th>count</th>\n",
       "      <td>51.000000</td>\n",
       "      <td>51.000000</td>\n",
       "      <td>51.000000</td>\n",
       "      <td>51.000000</td>\n",
       "      <td>51.000000</td>\n",
       "      <td>51.000000</td>\n",
       "      <td>5.100000e+01</td>\n",
       "      <td>5.100000e+01</td>\n",
       "      <td>5.100000e+01</td>\n",
       "      <td>51.000000</td>\n",
       "      <td>51.000000</td>\n",
       "      <td>5.100000e+01</td>\n",
       "    </tr>\n",
       "    <tr>\n",
       "      <th>mean</th>\n",
       "      <td>0.398039</td>\n",
       "      <td>0.457451</td>\n",
       "      <td>0.490588</td>\n",
       "      <td>0.652549</td>\n",
       "      <td>0.617255</td>\n",
       "      <td>0.586667</td>\n",
       "      <td>3.517091e+05</td>\n",
       "      <td>3.617528e+05</td>\n",
       "      <td>3.701016e+05</td>\n",
       "      <td>0.448693</td>\n",
       "      <td>0.618824</td>\n",
       "      <td>3.611879e+05</td>\n",
       "    </tr>\n",
       "    <tr>\n",
       "      <th>std</th>\n",
       "      <td>0.352766</td>\n",
       "      <td>0.373143</td>\n",
       "      <td>0.387476</td>\n",
       "      <td>0.321408</td>\n",
       "      <td>0.340371</td>\n",
       "      <td>0.345159</td>\n",
       "      <td>4.517600e+05</td>\n",
       "      <td>4.685293e+05</td>\n",
       "      <td>4.839684e+05</td>\n",
       "      <td>0.357529</td>\n",
       "      <td>0.328698</td>\n",
       "      <td>4.680695e+05</td>\n",
       "    </tr>\n",
       "    <tr>\n",
       "      <th>min</th>\n",
       "      <td>0.020000</td>\n",
       "      <td>0.020000</td>\n",
       "      <td>0.020000</td>\n",
       "      <td>0.080000</td>\n",
       "      <td>0.070000</td>\n",
       "      <td>0.060000</td>\n",
       "      <td>2.950090e+04</td>\n",
       "      <td>2.961640e+04</td>\n",
       "      <td>2.990280e+04</td>\n",
       "      <td>0.020000</td>\n",
       "      <td>0.070000</td>\n",
       "      <td>2.967337e+04</td>\n",
       "    </tr>\n",
       "    <tr>\n",
       "      <th>25%</th>\n",
       "      <td>0.040000</td>\n",
       "      <td>0.045000</td>\n",
       "      <td>0.055000</td>\n",
       "      <td>0.310000</td>\n",
       "      <td>0.285000</td>\n",
       "      <td>0.245000</td>\n",
       "      <td>8.398680e+04</td>\n",
       "      <td>8.542705e+04</td>\n",
       "      <td>8.702385e+04</td>\n",
       "      <td>0.045000</td>\n",
       "      <td>0.280000</td>\n",
       "      <td>8.547923e+04</td>\n",
       "    </tr>\n",
       "    <tr>\n",
       "      <th>50%</th>\n",
       "      <td>0.380000</td>\n",
       "      <td>0.520000</td>\n",
       "      <td>0.540000</td>\n",
       "      <td>0.690000</td>\n",
       "      <td>0.660000</td>\n",
       "      <td>0.540000</td>\n",
       "      <td>2.024943e+05</td>\n",
       "      <td>2.077727e+05</td>\n",
       "      <td>2.124828e+05</td>\n",
       "      <td>0.506667</td>\n",
       "      <td>0.643333</td>\n",
       "      <td>2.075833e+05</td>\n",
       "    </tr>\n",
       "    <tr>\n",
       "      <th>75%</th>\n",
       "      <td>0.660000</td>\n",
       "      <td>0.775000</td>\n",
       "      <td>0.820000</td>\n",
       "      <td>1.000000</td>\n",
       "      <td>1.000000</td>\n",
       "      <td>1.000000</td>\n",
       "      <td>4.622448e+05</td>\n",
       "      <td>4.728251e+05</td>\n",
       "      <td>4.772759e+05</td>\n",
       "      <td>0.726667</td>\n",
       "      <td>0.990000</td>\n",
       "      <td>4.707819e+05</td>\n",
       "    </tr>\n",
       "    <tr>\n",
       "      <th>max</th>\n",
       "      <td>1.000000</td>\n",
       "      <td>1.000000</td>\n",
       "      <td>1.000000</td>\n",
       "      <td>1.000000</td>\n",
       "      <td>1.000000</td>\n",
       "      <td>1.000000</td>\n",
       "      <td>2.541769e+06</td>\n",
       "      <td>2.643576e+06</td>\n",
       "      <td>2.739343e+06</td>\n",
       "      <td>1.000000</td>\n",
       "      <td>1.000000</td>\n",
       "      <td>2.641563e+06</td>\n",
       "    </tr>\n",
       "  </tbody>\n",
       "</table>\n",
       "</div>"
      ],
      "text/plain": [
       "       sat_part_rate_2017  sat_part_rate_2018  sat_part_rate_2019  \\\n",
       "count           51.000000           51.000000           51.000000   \n",
       "mean             0.398039            0.457451            0.490588   \n",
       "std              0.352766            0.373143            0.387476   \n",
       "min              0.020000            0.020000            0.020000   \n",
       "25%              0.040000            0.045000            0.055000   \n",
       "50%              0.380000            0.520000            0.540000   \n",
       "75%              0.660000            0.775000            0.820000   \n",
       "max              1.000000            1.000000            1.000000   \n",
       "\n",
       "       act_part_rate_2017  act_part_rate_2018  act_part_rate_2019  \\\n",
       "count           51.000000           51.000000           51.000000   \n",
       "mean             0.652549            0.617255            0.586667   \n",
       "std              0.321408            0.340371            0.345159   \n",
       "min              0.080000            0.070000            0.060000   \n",
       "25%              0.310000            0.285000            0.245000   \n",
       "50%              0.690000            0.660000            0.540000   \n",
       "75%              1.000000            1.000000            1.000000   \n",
       "max              1.000000            1.000000            1.000000   \n",
       "\n",
       "       annual_gdp_2017  annual_gdp_2018  annual_gdp_2019  mean_sat_part_rate  \\\n",
       "count     5.100000e+01     5.100000e+01     5.100000e+01           51.000000   \n",
       "mean      3.517091e+05     3.617528e+05     3.701016e+05            0.448693   \n",
       "std       4.517600e+05     4.685293e+05     4.839684e+05            0.357529   \n",
       "min       2.950090e+04     2.961640e+04     2.990280e+04            0.020000   \n",
       "25%       8.398680e+04     8.542705e+04     8.702385e+04            0.045000   \n",
       "50%       2.024943e+05     2.077727e+05     2.124828e+05            0.506667   \n",
       "75%       4.622448e+05     4.728251e+05     4.772759e+05            0.726667   \n",
       "max       2.541769e+06     2.643576e+06     2.739343e+06            1.000000   \n",
       "\n",
       "       mean_act_part_rate  mean_annual_gdp  \n",
       "count           51.000000     5.100000e+01  \n",
       "mean             0.618824     3.611879e+05  \n",
       "std              0.328698     4.680695e+05  \n",
       "min              0.070000     2.967337e+04  \n",
       "25%              0.280000     8.547923e+04  \n",
       "50%              0.643333     2.075833e+05  \n",
       "75%              0.990000     4.707819e+05  \n",
       "max              1.000000     2.641563e+06  "
      ]
     },
     "execution_count": 67,
     "metadata": {},
     "output_type": "execute_result"
    }
   ],
   "source": [
    "# Show all statistical info of numerical data in dataframe\n",
    "\n",
    "dfsat_act_part_gdp_state.describe()"
   ]
  },
  {
   "cell_type": "markdown",
   "metadata": {},
   "source": [
    "- The national average SAT participation rate is 44.8% while the national average ACT participation rate is 61.8%<br>\n",
    "- The standard deviation for national average SAT & ACT participation rate are relatively small (~0.3)<br>\n",
    "- Across the 3 years (2017-2019), the national average SAT participation rate has risen from 39.8% to 49.0% while national average ACT participation rate has fallen from 65.2% to 58.6%. As for national average annual GDP, it rose incrementally by 10,000."
   ]
  },
  {
   "cell_type": "code",
   "execution_count": 68,
   "metadata": {},
   "outputs": [
    {
     "data": {
      "image/png": "[encoded data removed]",
      "text/plain": [
       "<Figure size 576x360 with 1 Axes>"
      ]
     },
     "metadata": {},
     "output_type": "display_data"
    }
   ],
   "source": [
    "# View out the outliers for Annual GDP amongst US states\n",
    "sns.set(rc={\"figure.figsize\":(8,5)})\n",
    "sns.set(font_scale=1.1)\n",
    "sns.set_style('whitegrid')\n",
    "\n",
    "sns.boxplot(x=dfsat_act_part_gdp_state['mean_annual_gdp']);\n",
    "plt.title(f'Mean Annual GDP by State boxplot');"
   ]
  },
  {
   "cell_type": "markdown",
   "metadata": {},
   "source": [
    "The general higher limit of Annual GDP by state is 1,000,000. To be used for the chart scaling later."
   ]
  },
  {
   "cell_type": "code",
   "execution_count": 69,
   "metadata": {},
   "outputs": [
    {
     "data": {
      "text/html": [
       "<div>\n",
       "<style scoped>\n",
       "    .dataframe tbody tr th:only-of-type {\n",
       "        vertical-align: middle;\n",
       "    }\n",
       "\n",
       "    .dataframe tbody tr th {\n",
       "        vertical-align: top;\n",
       "    }\n",
       "\n",
       "    .dataframe thead th {\n",
       "        text-align: right;\n",
       "    }\n",
       "</style>\n",
       "<table border=\"1\" class=\"dataframe\">\n",
       "  <thead>\n",
       "    <tr style=\"text-align: right;\">\n",
       "      <th></th>\n",
       "      <th>state</th>\n",
       "      <th>mean_sat_part_rate</th>\n",
       "      <th>mean_act_part_rate</th>\n",
       "      <th>mean_annual_gdp</th>\n",
       "    </tr>\n",
       "  </thead>\n",
       "  <tbody>\n",
       "    <tr>\n",
       "      <th>22</th>\n",
       "      <td>Michigan</td>\n",
       "      <td>1.000000</td>\n",
       "      <td>0.233333</td>\n",
       "      <td>464298.500000</td>\n",
       "    </tr>\n",
       "    <tr>\n",
       "      <th>6</th>\n",
       "      <td>Connecticut</td>\n",
       "      <td>1.000000</td>\n",
       "      <td>0.263333</td>\n",
       "      <td>249617.233333</td>\n",
       "    </tr>\n",
       "    <tr>\n",
       "      <th>7</th>\n",
       "      <td>Delaware</td>\n",
       "      <td>1.000000</td>\n",
       "      <td>0.160000</td>\n",
       "      <td>62266.233333</td>\n",
       "    </tr>\n",
       "    <tr>\n",
       "      <th>12</th>\n",
       "      <td>Idaho</td>\n",
       "      <td>0.976667</td>\n",
       "      <td>0.350000</td>\n",
       "      <td>70655.966667</td>\n",
       "    </tr>\n",
       "    <tr>\n",
       "      <th>19</th>\n",
       "      <td>Maine</td>\n",
       "      <td>0.976667</td>\n",
       "      <td>0.070000</td>\n",
       "      <td>58091.766667</td>\n",
       "    </tr>\n",
       "  </tbody>\n",
       "</table>\n",
       "</div>"
      ],
      "text/plain": [
       "          state  mean_sat_part_rate  mean_act_part_rate  mean_annual_gdp\n",
       "22     Michigan            1.000000            0.233333    464298.500000\n",
       "6   Connecticut            1.000000            0.263333    249617.233333\n",
       "7      Delaware            1.000000            0.160000     62266.233333\n",
       "12        Idaho            0.976667            0.350000     70655.966667\n",
       "19        Maine            0.976667            0.070000     58091.766667"
      ]
     },
     "execution_count": 69,
     "metadata": {},
     "output_type": "execute_result"
    }
   ],
   "source": [
    "# Top 5 states with highest mean SAT Participation Rate\n",
    "\n",
    "dfsat_act_part_gdp_state[['state','mean_sat_part_rate','mean_act_part_rate','mean_annual_gdp']].sort_values(by='mean_sat_part_rate', ascending=False).head()"
   ]
  },
  {
   "cell_type": "code",
   "execution_count": 70,
   "metadata": {},
   "outputs": [
    {
     "data": {
      "text/html": [
       "<div>\n",
       "<style scoped>\n",
       "    .dataframe tbody tr th:only-of-type {\n",
       "        vertical-align: middle;\n",
       "    }\n",
       "\n",
       "    .dataframe tbody tr th {\n",
       "        vertical-align: top;\n",
       "    }\n",
       "\n",
       "    .dataframe thead th {\n",
       "        text-align: right;\n",
       "    }\n",
       "</style>\n",
       "<table border=\"1\" class=\"dataframe\">\n",
       "  <thead>\n",
       "    <tr style=\"text-align: right;\">\n",
       "      <th></th>\n",
       "      <th>state</th>\n",
       "      <th>mean_sat_part_rate</th>\n",
       "      <th>mean_act_part_rate</th>\n",
       "      <th>mean_annual_gdp</th>\n",
       "    </tr>\n",
       "  </thead>\n",
       "  <tbody>\n",
       "    <tr>\n",
       "      <th>0</th>\n",
       "      <td>Alabama</td>\n",
       "      <td>0.060000</td>\n",
       "      <td>1.0</td>\n",
       "      <td>200583.800000</td>\n",
       "    </tr>\n",
       "    <tr>\n",
       "      <th>17</th>\n",
       "      <td>Kentucky</td>\n",
       "      <td>0.040000</td>\n",
       "      <td>1.0</td>\n",
       "      <td>188435.200000</td>\n",
       "    </tr>\n",
       "    <tr>\n",
       "      <th>49</th>\n",
       "      <td>Wisconsin</td>\n",
       "      <td>0.030000</td>\n",
       "      <td>1.0</td>\n",
       "      <td>298539.466667</td>\n",
       "    </tr>\n",
       "    <tr>\n",
       "      <th>44</th>\n",
       "      <td>Utah</td>\n",
       "      <td>0.036667</td>\n",
       "      <td>1.0</td>\n",
       "      <td>162943.000000</td>\n",
       "    </tr>\n",
       "    <tr>\n",
       "      <th>42</th>\n",
       "      <td>Tennessee</td>\n",
       "      <td>0.060000</td>\n",
       "      <td>1.0</td>\n",
       "      <td>323390.700000</td>\n",
       "    </tr>\n",
       "  </tbody>\n",
       "</table>\n",
       "</div>"
      ],
      "text/plain": [
       "        state  mean_sat_part_rate  mean_act_part_rate  mean_annual_gdp\n",
       "0     Alabama            0.060000                 1.0    200583.800000\n",
       "17   Kentucky            0.040000                 1.0    188435.200000\n",
       "49  Wisconsin            0.030000                 1.0    298539.466667\n",
       "44       Utah            0.036667                 1.0    162943.000000\n",
       "42  Tennessee            0.060000                 1.0    323390.700000"
      ]
     },
     "execution_count": 70,
     "metadata": {},
     "output_type": "execute_result"
    }
   ],
   "source": [
    "# Top 5 states with highest mean ACT Participation Rate\n",
    "\n",
    "dfsat_act_part_gdp_state[['state','mean_sat_part_rate','mean_act_part_rate','mean_annual_gdp']].sort_values(by='mean_act_part_rate', ascending=False).head()"
   ]
  },
  {
   "cell_type": "code",
   "execution_count": 71,
   "metadata": {},
   "outputs": [
    {
     "data": {
      "text/html": [
       "<div>\n",
       "<style scoped>\n",
       "    .dataframe tbody tr th:only-of-type {\n",
       "        vertical-align: middle;\n",
       "    }\n",
       "\n",
       "    .dataframe tbody tr th {\n",
       "        vertical-align: top;\n",
       "    }\n",
       "\n",
       "    .dataframe thead th {\n",
       "        text-align: right;\n",
       "    }\n",
       "</style>\n",
       "<table border=\"1\" class=\"dataframe\">\n",
       "  <thead>\n",
       "    <tr style=\"text-align: right;\">\n",
       "      <th></th>\n",
       "      <th>state</th>\n",
       "      <th>mean_sat_part_rate</th>\n",
       "      <th>mean_act_part_rate</th>\n",
       "      <th>mean_annual_gdp</th>\n",
       "    </tr>\n",
       "  </thead>\n",
       "  <tbody>\n",
       "    <tr>\n",
       "      <th>4</th>\n",
       "      <td>California</td>\n",
       "      <td>0.586667</td>\n",
       "      <td>0.270000</td>\n",
       "      <td>2.641563e+06</td>\n",
       "    </tr>\n",
       "    <tr>\n",
       "      <th>43</th>\n",
       "      <td>Texas</td>\n",
       "      <td>0.653333</td>\n",
       "      <td>0.430000</td>\n",
       "      <td>1.726274e+06</td>\n",
       "    </tr>\n",
       "    <tr>\n",
       "      <th>32</th>\n",
       "      <td>New York</td>\n",
       "      <td>0.750000</td>\n",
       "      <td>0.266667</td>\n",
       "      <td>1.457439e+06</td>\n",
       "    </tr>\n",
       "    <tr>\n",
       "      <th>9</th>\n",
       "      <td>Florida</td>\n",
       "      <td>0.796667</td>\n",
       "      <td>0.643333</td>\n",
       "      <td>9.426829e+05</td>\n",
       "    </tr>\n",
       "    <tr>\n",
       "      <th>13</th>\n",
       "      <td>Illinois</td>\n",
       "      <td>0.693333</td>\n",
       "      <td>0.570000</td>\n",
       "      <td>7.691045e+05</td>\n",
       "    </tr>\n",
       "  </tbody>\n",
       "</table>\n",
       "</div>"
      ],
      "text/plain": [
       "         state  mean_sat_part_rate  mean_act_part_rate  mean_annual_gdp\n",
       "4   California            0.586667            0.270000     2.641563e+06\n",
       "43       Texas            0.653333            0.430000     1.726274e+06\n",
       "32    New York            0.750000            0.266667     1.457439e+06\n",
       "9      Florida            0.796667            0.643333     9.426829e+05\n",
       "13    Illinois            0.693333            0.570000     7.691045e+05"
      ]
     },
     "execution_count": 71,
     "metadata": {},
     "output_type": "execute_result"
    }
   ],
   "source": [
    "# Top 5 states with highest mean annual GDP\n",
    "\n",
    "dfsat_act_part_gdp_state[['state','mean_sat_part_rate','mean_act_part_rate','mean_annual_gdp']].sort_values(by='mean_annual_gdp', ascending=False).head()"
   ]
  },
  {
   "cell_type": "code",
   "execution_count": 72,
   "metadata": {},
   "outputs": [
    {
     "data": {
      "image/png": "[encoded data removed]",
      "text/plain": [
       "<Figure size 360x360 with 1 Axes>"
      ]
     },
     "metadata": {},
     "output_type": "display_data"
    }
   ],
   "source": [
    "# Correlation scatter plot between SAT & ACT participation among US states\n",
    "\n",
    "sns.set_style('whitegrid')\n",
    "\n",
    "sns.lmplot(data=dfsat_act_part_gdp_state,\n",
    "           x=\"mean_sat_part_rate\", \n",
    "           y=\"mean_act_part_rate\", \n",
    "           ci=95);\n",
    "\n",
    "plt.xlabel(\"Average SAT Participation Rate by state\", fontsize = 13)\n",
    "plt.ylabel(\"Average ACT Participation Rate by state\", fontsize = 13);\n",
    "plt.title(f'SAT Participation Rate against ACT Participation Rate', fontsize = 13);"
   ]
  },
  {
   "cell_type": "markdown",
   "metadata": {},
   "source": [
    "There is a negative correlation between SAT & ACT participation among US states"
   ]
  },
  {
   "cell_type": "code",
   "execution_count": 73,
   "metadata": {},
   "outputs": [
    {
     "data": {
      "image/png": "[encoded data removed]",
      "text/plain": [
       "<Figure size 360x360 with 1 Axes>"
      ]
     },
     "metadata": {},
     "output_type": "display_data"
    }
   ],
   "source": [
    "# correlation scatter plot between SAT participation rate & annual GDP among US states\n",
    "# Annual GDP axis is limited to 1 mio to exclude out the outliers\n",
    "\n",
    "sns.set_style('whitegrid')\n",
    "\n",
    "sns.lmplot(data=dfsat_act_part_gdp_state,\n",
    "           x=\"mean_sat_part_rate\", \n",
    "           y=\"mean_annual_gdp\",\n",
    "           ci=None).set(ylim=(0, 1000000));\n",
    "\n",
    "plt.xlabel(\"Average SAT Participation Rate by state\", fontsize = 13)\n",
    "plt.ylabel(\"Average Annual GDP by state\", fontsize = 13);\n",
    "plt.title(f'SAT Participation Rate against GDP', fontsize = 13);"
   ]
  },
  {
   "cell_type": "markdown",
   "metadata": {},
   "source": [
    "There is a positive correlation between SAT participation rate & annual GDP among US states"
   ]
  },
  {
   "cell_type": "code",
   "execution_count": 74,
   "metadata": {},
   "outputs": [
    {
     "data": {
      "image/png": "[encoded data removed]",
      "text/plain": [
       "<Figure size 360x360 with 1 Axes>"
      ]
     },
     "metadata": {},
     "output_type": "display_data"
    }
   ],
   "source": [
    "# correlation scatter plot between ACT participation rate & annual GDP among US states\n",
    "# Annual GDP axis is limited to 1 mio to exclude out the outliers\n",
    "\n",
    "sns.set_style('whitegrid')\n",
    "\n",
    "sns.lmplot(data=dfsat_act_part_gdp_state,\n",
    "           x=\"mean_act_part_rate\", \n",
    "           y=\"mean_annual_gdp\", \n",
    "           ci=None).set(ylim=(0, 1000000));\n",
    "\n",
    "plt.xlabel(\"Average ACT Participation Rate by state\", fontsize = 13)\n",
    "plt.ylabel(\"Average Annual GDP by state\", fontsize = 13);\n",
    "plt.title(f'ACT Participation Rate against GDP', fontsize = 13);"
   ]
  },
  {
   "cell_type": "markdown",
   "metadata": {},
   "source": [
    "There is a negative correlation between ACT participation rate & annual GDP among US states"
   ]
  },
  {
   "cell_type": "code",
   "execution_count": 75,
   "metadata": {},
   "outputs": [
    {
     "data": {
      "image/png": "[encoded data removed]",
      "text/plain": [
       "<Figure size 720x432 with 2 Axes>"
      ]
     },
     "metadata": {},
     "output_type": "display_data"
    }
   ],
   "source": [
    "# Correlation heatmap for SAT/ACT Participation Rate vs Annual GDP by state dataframe\n",
    "plt.figure(figsize=(10, 6))\n",
    "sns.set(font_scale=1.1)\n",
    "\n",
    "mask = np.triu(np.ones_like(dfsat_act_part_gdp_state.corr())) # define the mask to set the values in the upper triangle to True\n",
    "\n",
    "heatmap = sns.heatmap(dfsat_act_part_gdp_state.corr(), \n",
    "                      mask=mask, \n",
    "                      vmin=-1, \n",
    "                      vmax=1, \n",
    "                      annot=True, \n",
    "                      cmap='coolwarm')\n",
    "\n",
    "heatmap.set_title('Participation Rate & Annual GDP Correlation Heatmap',\n",
    "                  fontdict={'fontsize':15},\n",
    "                  pad=16);"
   ]
  },
  {
   "cell_type": "markdown",
   "metadata": {},
   "source": [
    "1. It seems that the poorer states are more likely to participate in ACT. The lower the GDP, the higher the ACT participation rate (Correlation = -0.27).\n",
    "2. It seems that the poorer states are less likely to participate in SAT. The higher the GDP, the higher the SAT participation rate. (Correlation = 0.24)\n",
    "3. The participation rate between SAT & ACT are inversely correlated. In other words, states that have a high ACT participation rate tend to have low SAT participation rate (Correlation = -0.87)\n",
    "4. The correlation behaviours amongst SAT Participation Rate, ACT Participation Rate & Annual GDP has been quite consistent from 2017 to 2019"
   ]
  },
  {
   "cell_type": "markdown",
   "metadata": {},
   "source": [
    "### Analysis - SAT/ACT test scores vs Student retention rate by State"
   ]
  },
  {
   "cell_type": "code",
   "execution_count": 76,
   "metadata": {},
   "outputs": [
    {
     "data": {
      "text/html": [
       "<div>\n",
       "<style scoped>\n",
       "    .dataframe tbody tr th:only-of-type {\n",
       "        vertical-align: middle;\n",
       "    }\n",
       "\n",
       "    .dataframe tbody tr th {\n",
       "        vertical-align: top;\n",
       "    }\n",
       "\n",
       "    .dataframe thead th {\n",
       "        text-align: right;\n",
       "    }\n",
       "</style>\n",
       "<table border=\"1\" class=\"dataframe\">\n",
       "  <thead>\n",
       "    <tr style=\"text-align: right;\">\n",
       "      <th></th>\n",
       "      <th>retention_rate_ave</th>\n",
       "      <th>sat_mid_score</th>\n",
       "      <th>act_mid_score</th>\n",
       "    </tr>\n",
       "  </thead>\n",
       "  <tbody>\n",
       "    <tr>\n",
       "      <th>count</th>\n",
       "      <td>51.000000</td>\n",
       "      <td>51.000000</td>\n",
       "      <td>51.000000</td>\n",
       "    </tr>\n",
       "    <tr>\n",
       "      <th>mean</th>\n",
       "      <td>0.645713</td>\n",
       "      <td>1125.578431</td>\n",
       "      <td>22.901961</td>\n",
       "    </tr>\n",
       "    <tr>\n",
       "      <th>std</th>\n",
       "      <td>0.047685</td>\n",
       "      <td>59.122954</td>\n",
       "      <td>1.860160</td>\n",
       "    </tr>\n",
       "    <tr>\n",
       "      <th>min</th>\n",
       "      <td>0.555340</td>\n",
       "      <td>936.000000</td>\n",
       "      <td>19.000000</td>\n",
       "    </tr>\n",
       "    <tr>\n",
       "      <th>25%</th>\n",
       "      <td>0.608427</td>\n",
       "      <td>1098.500000</td>\n",
       "      <td>21.750000</td>\n",
       "    </tr>\n",
       "    <tr>\n",
       "      <th>50%</th>\n",
       "      <td>0.634237</td>\n",
       "      <td>1120.000000</td>\n",
       "      <td>23.000000</td>\n",
       "    </tr>\n",
       "    <tr>\n",
       "      <th>75%</th>\n",
       "      <td>0.689178</td>\n",
       "      <td>1146.250000</td>\n",
       "      <td>23.500000</td>\n",
       "    </tr>\n",
       "    <tr>\n",
       "      <th>max</th>\n",
       "      <td>0.747606</td>\n",
       "      <td>1318.000000</td>\n",
       "      <td>29.000000</td>\n",
       "    </tr>\n",
       "  </tbody>\n",
       "</table>\n",
       "</div>"
      ],
      "text/plain": [
       "       retention_rate_ave  sat_mid_score  act_mid_score\n",
       "count           51.000000      51.000000      51.000000\n",
       "mean             0.645713    1125.578431      22.901961\n",
       "std              0.047685      59.122954       1.860160\n",
       "min              0.555340     936.000000      19.000000\n",
       "25%              0.608427    1098.500000      21.750000\n",
       "50%              0.634237    1120.000000      23.000000\n",
       "75%              0.689178    1146.250000      23.500000\n",
       "max              0.747606    1318.000000      29.000000"
      ]
     },
     "execution_count": 76,
     "metadata": {},
     "output_type": "execute_result"
    }
   ],
   "source": [
    "df2019enrollstate.describe()"
   ]
  },
  {
   "cell_type": "code",
   "execution_count": 77,
   "metadata": {},
   "outputs": [
    {
     "data": {
      "text/html": [
       "<div>\n",
       "<style scoped>\n",
       "    .dataframe tbody tr th:only-of-type {\n",
       "        vertical-align: middle;\n",
       "    }\n",
       "\n",
       "    .dataframe tbody tr th {\n",
       "        vertical-align: top;\n",
       "    }\n",
       "\n",
       "    .dataframe thead th {\n",
       "        text-align: right;\n",
       "    }\n",
       "</style>\n",
       "<table border=\"1\" class=\"dataframe\">\n",
       "  <thead>\n",
       "    <tr style=\"text-align: right;\">\n",
       "      <th></th>\n",
       "      <th>retention_rate_ave</th>\n",
       "      <th>sat_mid_score</th>\n",
       "      <th>act_mid_score</th>\n",
       "    </tr>\n",
       "  </thead>\n",
       "  <tbody>\n",
       "    <tr>\n",
       "      <th>count</th>\n",
       "      <td>51.000000</td>\n",
       "      <td>51.000000</td>\n",
       "      <td>51.000000</td>\n",
       "    </tr>\n",
       "    <tr>\n",
       "      <th>mean</th>\n",
       "      <td>0.636962</td>\n",
       "      <td>1128.725490</td>\n",
       "      <td>23.058824</td>\n",
       "    </tr>\n",
       "    <tr>\n",
       "      <th>std</th>\n",
       "      <td>0.050071</td>\n",
       "      <td>57.852253</td>\n",
       "      <td>1.648172</td>\n",
       "    </tr>\n",
       "    <tr>\n",
       "      <th>min</th>\n",
       "      <td>0.500255</td>\n",
       "      <td>938.000000</td>\n",
       "      <td>20.000000</td>\n",
       "    </tr>\n",
       "    <tr>\n",
       "      <th>25%</th>\n",
       "      <td>0.604185</td>\n",
       "      <td>1099.000000</td>\n",
       "      <td>22.000000</td>\n",
       "    </tr>\n",
       "    <tr>\n",
       "      <th>50%</th>\n",
       "      <td>0.635014</td>\n",
       "      <td>1128.000000</td>\n",
       "      <td>23.000000</td>\n",
       "    </tr>\n",
       "    <tr>\n",
       "      <th>75%</th>\n",
       "      <td>0.674634</td>\n",
       "      <td>1147.500000</td>\n",
       "      <td>23.500000</td>\n",
       "    </tr>\n",
       "    <tr>\n",
       "      <th>max</th>\n",
       "      <td>0.720638</td>\n",
       "      <td>1320.000000</td>\n",
       "      <td>29.000000</td>\n",
       "    </tr>\n",
       "  </tbody>\n",
       "</table>\n",
       "</div>"
      ],
      "text/plain": [
       "       retention_rate_ave  sat_mid_score  act_mid_score\n",
       "count           51.000000      51.000000      51.000000\n",
       "mean             0.636962    1128.725490      23.058824\n",
       "std              0.050071      57.852253       1.648172\n",
       "min              0.500255     938.000000      20.000000\n",
       "25%              0.604185    1099.000000      22.000000\n",
       "50%              0.635014    1128.000000      23.000000\n",
       "75%              0.674634    1147.500000      23.500000\n",
       "max              0.720638    1320.000000      29.000000"
      ]
     },
     "execution_count": 77,
     "metadata": {},
     "output_type": "execute_result"
    }
   ],
   "source": [
    "df2018enrollstate.describe()"
   ]
  },
  {
   "cell_type": "markdown",
   "metadata": {},
   "source": [
    "1. At the national level, the average retention rate has not changed much year on year (63.6% in 2018 & 64.5% in 2019)\n",
    "2. The deviation of average retention rate is relatively small amongst the states (around 0.04 ~ 0.05)"
   ]
  },
  {
   "cell_type": "code",
   "execution_count": 78,
   "metadata": {},
   "outputs": [],
   "source": [
    "# Indicator for states that have the student retention rate higher than the national average\n",
    "\n",
    "df2019enrollstate['above_below_nation_ave'] = ['below' if rate <= 0.645 else 'above' for rate in df2019enrollstate.retention_rate_ave]"
   ]
  },
  {
   "cell_type": "code",
   "execution_count": 79,
   "metadata": {},
   "outputs": [
    {
     "data": {
      "text/html": [
       "<div>\n",
       "<style scoped>\n",
       "    .dataframe tbody tr th:only-of-type {\n",
       "        vertical-align: middle;\n",
       "    }\n",
       "\n",
       "    .dataframe tbody tr th {\n",
       "        vertical-align: top;\n",
       "    }\n",
       "\n",
       "    .dataframe thead th {\n",
       "        text-align: right;\n",
       "    }\n",
       "</style>\n",
       "<table border=\"1\" class=\"dataframe\">\n",
       "  <thead>\n",
       "    <tr style=\"text-align: right;\">\n",
       "      <th></th>\n",
       "      <th>state</th>\n",
       "      <th>statecode</th>\n",
       "      <th>retention_rate_ave</th>\n",
       "      <th>sat_mid_score</th>\n",
       "      <th>act_mid_score</th>\n",
       "      <th>above_below_nation_ave</th>\n",
       "    </tr>\n",
       "  </thead>\n",
       "  <tbody>\n",
       "    <tr>\n",
       "      <th>7</th>\n",
       "      <td>District of Columbia</td>\n",
       "      <td>DC</td>\n",
       "      <td>0.627203</td>\n",
       "      <td>1318.0</td>\n",
       "      <td>29.0</td>\n",
       "      <td>below</td>\n",
       "    </tr>\n",
       "    <tr>\n",
       "      <th>46</th>\n",
       "      <td>Vermont</td>\n",
       "      <td>VT</td>\n",
       "      <td>0.624526</td>\n",
       "      <td>1258.0</td>\n",
       "      <td>28.0</td>\n",
       "      <td>below</td>\n",
       "    </tr>\n",
       "    <tr>\n",
       "      <th>30</th>\n",
       "      <td>New Hampshire</td>\n",
       "      <td>NH</td>\n",
       "      <td>0.747606</td>\n",
       "      <td>1224.0</td>\n",
       "      <td>26.0</td>\n",
       "      <td>above</td>\n",
       "    </tr>\n",
       "    <tr>\n",
       "      <th>39</th>\n",
       "      <td>Rhode Island</td>\n",
       "      <td>RI</td>\n",
       "      <td>0.718100</td>\n",
       "      <td>1221.0</td>\n",
       "      <td>27.0</td>\n",
       "      <td>above</td>\n",
       "    </tr>\n",
       "    <tr>\n",
       "      <th>50</th>\n",
       "      <td>Wyoming</td>\n",
       "      <td>WY</td>\n",
       "      <td>0.561005</td>\n",
       "      <td>1203.0</td>\n",
       "      <td>25.0</td>\n",
       "      <td>below</td>\n",
       "    </tr>\n",
       "    <tr>\n",
       "      <th>44</th>\n",
       "      <td>Utah</td>\n",
       "      <td>UT</td>\n",
       "      <td>0.704291</td>\n",
       "      <td>1201.0</td>\n",
       "      <td>25.0</td>\n",
       "      <td>above</td>\n",
       "    </tr>\n",
       "    <tr>\n",
       "      <th>34</th>\n",
       "      <td>New York</td>\n",
       "      <td>NY</td>\n",
       "      <td>0.715375</td>\n",
       "      <td>1179.0</td>\n",
       "      <td>25.0</td>\n",
       "      <td>above</td>\n",
       "    </tr>\n",
       "    <tr>\n",
       "      <th>23</th>\n",
       "      <td>Minnesota</td>\n",
       "      <td>MN</td>\n",
       "      <td>0.646043</td>\n",
       "      <td>1177.5</td>\n",
       "      <td>24.0</td>\n",
       "      <td>above</td>\n",
       "    </tr>\n",
       "    <tr>\n",
       "      <th>19</th>\n",
       "      <td>Massachusetts</td>\n",
       "      <td>MA</td>\n",
       "      <td>0.698854</td>\n",
       "      <td>1171.0</td>\n",
       "      <td>24.0</td>\n",
       "      <td>above</td>\n",
       "    </tr>\n",
       "    <tr>\n",
       "      <th>3</th>\n",
       "      <td>Arizona</td>\n",
       "      <td>AZ</td>\n",
       "      <td>0.633164</td>\n",
       "      <td>1161.0</td>\n",
       "      <td>23.0</td>\n",
       "      <td>below</td>\n",
       "    </tr>\n",
       "    <tr>\n",
       "      <th>9</th>\n",
       "      <td>Florida</td>\n",
       "      <td>FL</td>\n",
       "      <td>0.697896</td>\n",
       "      <td>1159.0</td>\n",
       "      <td>24.0</td>\n",
       "      <td>above</td>\n",
       "    </tr>\n",
       "    <tr>\n",
       "      <th>42</th>\n",
       "      <td>Tennessee</td>\n",
       "      <td>TN</td>\n",
       "      <td>0.630811</td>\n",
       "      <td>1156.0</td>\n",
       "      <td>23.0</td>\n",
       "      <td>below</td>\n",
       "    </tr>\n",
       "    <tr>\n",
       "      <th>47</th>\n",
       "      <td>Washington</td>\n",
       "      <td>WA</td>\n",
       "      <td>0.720766</td>\n",
       "      <td>1147.0</td>\n",
       "      <td>24.0</td>\n",
       "      <td>above</td>\n",
       "    </tr>\n",
       "    <tr>\n",
       "      <th>17</th>\n",
       "      <td>Kentucky</td>\n",
       "      <td>KY</td>\n",
       "      <td>0.601621</td>\n",
       "      <td>1145.5</td>\n",
       "      <td>23.0</td>\n",
       "      <td>below</td>\n",
       "    </tr>\n",
       "    <tr>\n",
       "      <th>4</th>\n",
       "      <td>California</td>\n",
       "      <td>CA</td>\n",
       "      <td>0.723631</td>\n",
       "      <td>1143.0</td>\n",
       "      <td>23.0</td>\n",
       "      <td>above</td>\n",
       "    </tr>\n",
       "  </tbody>\n",
       "</table>\n",
       "</div>"
      ],
      "text/plain": [
       "                   state statecode  retention_rate_ave  sat_mid_score  \\\n",
       "7   District of Columbia        DC            0.627203         1318.0   \n",
       "46               Vermont        VT            0.624526         1258.0   \n",
       "30         New Hampshire        NH            0.747606         1224.0   \n",
       "39          Rhode Island        RI            0.718100         1221.0   \n",
       "50               Wyoming        WY            0.561005         1203.0   \n",
       "44                  Utah        UT            0.704291         1201.0   \n",
       "34              New York        NY            0.715375         1179.0   \n",
       "23             Minnesota        MN            0.646043         1177.5   \n",
       "19         Massachusetts        MA            0.698854         1171.0   \n",
       "3                Arizona        AZ            0.633164         1161.0   \n",
       "9                Florida        FL            0.697896         1159.0   \n",
       "42             Tennessee        TN            0.630811         1156.0   \n",
       "47            Washington        WA            0.720766         1147.0   \n",
       "17              Kentucky        KY            0.601621         1145.5   \n",
       "4             California        CA            0.723631         1143.0   \n",
       "\n",
       "    act_mid_score above_below_nation_ave  \n",
       "7            29.0                  below  \n",
       "46           28.0                  below  \n",
       "30           26.0                  above  \n",
       "39           27.0                  above  \n",
       "50           25.0                  below  \n",
       "44           25.0                  above  \n",
       "34           25.0                  above  \n",
       "23           24.0                  above  \n",
       "19           24.0                  above  \n",
       "3            23.0                  below  \n",
       "9            24.0                  above  \n",
       "42           23.0                  below  \n",
       "47           24.0                  above  \n",
       "17           23.0                  below  \n",
       "4            23.0                  above  "
      ]
     },
     "execution_count": 79,
     "metadata": {},
     "output_type": "execute_result"
    }
   ],
   "source": [
    "# Comparing state level retention rate vs national average in relation to SAT scores (Top 15 states)\n",
    "\n",
    "df2019enrollstate.sort_values(by=['sat_mid_score','retention_rate_ave'], ascending= [False, False]).head(15)"
   ]
  },
  {
   "cell_type": "markdown",
   "metadata": {},
   "source": [
    "9 out of the top 15 states have higher retention rate than national average"
   ]
  },
  {
   "cell_type": "code",
   "execution_count": 80,
   "metadata": {},
   "outputs": [
    {
     "data": {
      "text/html": [
       "<div>\n",
       "<style scoped>\n",
       "    .dataframe tbody tr th:only-of-type {\n",
       "        vertical-align: middle;\n",
       "    }\n",
       "\n",
       "    .dataframe tbody tr th {\n",
       "        vertical-align: top;\n",
       "    }\n",
       "\n",
       "    .dataframe thead th {\n",
       "        text-align: right;\n",
       "    }\n",
       "</style>\n",
       "<table border=\"1\" class=\"dataframe\">\n",
       "  <thead>\n",
       "    <tr style=\"text-align: right;\">\n",
       "      <th></th>\n",
       "      <th>state</th>\n",
       "      <th>statecode</th>\n",
       "      <th>retention_rate_ave</th>\n",
       "      <th>sat_mid_score</th>\n",
       "      <th>act_mid_score</th>\n",
       "      <th>above_below_nation_ave</th>\n",
       "    </tr>\n",
       "  </thead>\n",
       "  <tbody>\n",
       "    <tr>\n",
       "      <th>7</th>\n",
       "      <td>District of Columbia</td>\n",
       "      <td>DC</td>\n",
       "      <td>0.627203</td>\n",
       "      <td>1318.0</td>\n",
       "      <td>29.0</td>\n",
       "      <td>below</td>\n",
       "    </tr>\n",
       "    <tr>\n",
       "      <th>46</th>\n",
       "      <td>Vermont</td>\n",
       "      <td>VT</td>\n",
       "      <td>0.624526</td>\n",
       "      <td>1258.0</td>\n",
       "      <td>28.0</td>\n",
       "      <td>below</td>\n",
       "    </tr>\n",
       "    <tr>\n",
       "      <th>39</th>\n",
       "      <td>Rhode Island</td>\n",
       "      <td>RI</td>\n",
       "      <td>0.718100</td>\n",
       "      <td>1221.0</td>\n",
       "      <td>27.0</td>\n",
       "      <td>above</td>\n",
       "    </tr>\n",
       "    <tr>\n",
       "      <th>30</th>\n",
       "      <td>New Hampshire</td>\n",
       "      <td>NH</td>\n",
       "      <td>0.747606</td>\n",
       "      <td>1224.0</td>\n",
       "      <td>26.0</td>\n",
       "      <td>above</td>\n",
       "    </tr>\n",
       "    <tr>\n",
       "      <th>34</th>\n",
       "      <td>New York</td>\n",
       "      <td>NY</td>\n",
       "      <td>0.715375</td>\n",
       "      <td>1179.0</td>\n",
       "      <td>25.0</td>\n",
       "      <td>above</td>\n",
       "    </tr>\n",
       "    <tr>\n",
       "      <th>44</th>\n",
       "      <td>Utah</td>\n",
       "      <td>UT</td>\n",
       "      <td>0.704291</td>\n",
       "      <td>1201.0</td>\n",
       "      <td>25.0</td>\n",
       "      <td>above</td>\n",
       "    </tr>\n",
       "    <tr>\n",
       "      <th>50</th>\n",
       "      <td>Wyoming</td>\n",
       "      <td>WY</td>\n",
       "      <td>0.561005</td>\n",
       "      <td>1203.0</td>\n",
       "      <td>25.0</td>\n",
       "      <td>below</td>\n",
       "    </tr>\n",
       "    <tr>\n",
       "      <th>47</th>\n",
       "      <td>Washington</td>\n",
       "      <td>WA</td>\n",
       "      <td>0.720766</td>\n",
       "      <td>1147.0</td>\n",
       "      <td>24.0</td>\n",
       "      <td>above</td>\n",
       "    </tr>\n",
       "    <tr>\n",
       "      <th>19</th>\n",
       "      <td>Massachusetts</td>\n",
       "      <td>MA</td>\n",
       "      <td>0.698854</td>\n",
       "      <td>1171.0</td>\n",
       "      <td>24.0</td>\n",
       "      <td>above</td>\n",
       "    </tr>\n",
       "    <tr>\n",
       "      <th>9</th>\n",
       "      <td>Florida</td>\n",
       "      <td>FL</td>\n",
       "      <td>0.697896</td>\n",
       "      <td>1159.0</td>\n",
       "      <td>24.0</td>\n",
       "      <td>above</td>\n",
       "    </tr>\n",
       "    <tr>\n",
       "      <th>6</th>\n",
       "      <td>Connecticut</td>\n",
       "      <td>CT</td>\n",
       "      <td>0.690020</td>\n",
       "      <td>1127.0</td>\n",
       "      <td>24.0</td>\n",
       "      <td>above</td>\n",
       "    </tr>\n",
       "    <tr>\n",
       "      <th>23</th>\n",
       "      <td>Minnesota</td>\n",
       "      <td>MN</td>\n",
       "      <td>0.646043</td>\n",
       "      <td>1177.5</td>\n",
       "      <td>24.0</td>\n",
       "      <td>above</td>\n",
       "    </tr>\n",
       "    <tr>\n",
       "      <th>22</th>\n",
       "      <td>Michigan</td>\n",
       "      <td>MI</td>\n",
       "      <td>0.688335</td>\n",
       "      <td>1115.0</td>\n",
       "      <td>23.5</td>\n",
       "      <td>above</td>\n",
       "    </tr>\n",
       "    <tr>\n",
       "      <th>21</th>\n",
       "      <td>Maine</td>\n",
       "      <td>ME</td>\n",
       "      <td>0.669847</td>\n",
       "      <td>1072.0</td>\n",
       "      <td>23.5</td>\n",
       "      <td>above</td>\n",
       "    </tr>\n",
       "    <tr>\n",
       "      <th>5</th>\n",
       "      <td>Colorado</td>\n",
       "      <td>CO</td>\n",
       "      <td>0.648279</td>\n",
       "      <td>1119.0</td>\n",
       "      <td>23.5</td>\n",
       "      <td>above</td>\n",
       "    </tr>\n",
       "  </tbody>\n",
       "</table>\n",
       "</div>"
      ],
      "text/plain": [
       "                   state statecode  retention_rate_ave  sat_mid_score  \\\n",
       "7   District of Columbia        DC            0.627203         1318.0   \n",
       "46               Vermont        VT            0.624526         1258.0   \n",
       "39          Rhode Island        RI            0.718100         1221.0   \n",
       "30         New Hampshire        NH            0.747606         1224.0   \n",
       "34              New York        NY            0.715375         1179.0   \n",
       "44                  Utah        UT            0.704291         1201.0   \n",
       "50               Wyoming        WY            0.561005         1203.0   \n",
       "47            Washington        WA            0.720766         1147.0   \n",
       "19         Massachusetts        MA            0.698854         1171.0   \n",
       "9                Florida        FL            0.697896         1159.0   \n",
       "6            Connecticut        CT            0.690020         1127.0   \n",
       "23             Minnesota        MN            0.646043         1177.5   \n",
       "22              Michigan        MI            0.688335         1115.0   \n",
       "21                 Maine        ME            0.669847         1072.0   \n",
       "5               Colorado        CO            0.648279         1119.0   \n",
       "\n",
       "    act_mid_score above_below_nation_ave  \n",
       "7            29.0                  below  \n",
       "46           28.0                  below  \n",
       "39           27.0                  above  \n",
       "30           26.0                  above  \n",
       "34           25.0                  above  \n",
       "44           25.0                  above  \n",
       "50           25.0                  below  \n",
       "47           24.0                  above  \n",
       "19           24.0                  above  \n",
       "9            24.0                  above  \n",
       "6            24.0                  above  \n",
       "23           24.0                  above  \n",
       "22           23.5                  above  \n",
       "21           23.5                  above  \n",
       "5            23.5                  above  "
      ]
     },
     "execution_count": 80,
     "metadata": {},
     "output_type": "execute_result"
    }
   ],
   "source": [
    "# Comparing state level retention rate vs national average in relation to ACT scores (Top 15 states)\n",
    "\n",
    "df2019enrollstate.sort_values(by=['act_mid_score','retention_rate_ave'], ascending= [False, False]).head(15)"
   ]
  },
  {
   "cell_type": "markdown",
   "metadata": {},
   "source": [
    "12 out of the top 15 states have higher retention rate than national average"
   ]
  },
  {
   "cell_type": "code",
   "execution_count": 81,
   "metadata": {},
   "outputs": [
    {
     "data": {
      "image/png": "[encoded data removed]",
      "text/plain": [
       "<Figure size 720x432 with 2 Axes>"
      ]
     },
     "metadata": {},
     "output_type": "display_data"
    }
   ],
   "source": [
    "# Correlation Heatmap for SAT/ACT Test scores & Student retention rate by state for 2019-20\n",
    "plt.figure(figsize=(10, 6))\n",
    "sns.set(font_scale=1.5)\n",
    "\n",
    "mask = np.triu(np.ones_like(df2019enrollstate.corr()))   # define the mask to set the values in the upper triangle to True\n",
    "\n",
    "heatmap = sns.heatmap(df2019enrollstate.corr(),\n",
    "                      mask=mask,\n",
    "                      vmin=-1,\n",
    "                      vmax=1,\n",
    "                      annot=True,\n",
    "                      cmap='coolwarm')\n",
    "\n",
    "heatmap.set_title('2019-20 Student Retention Rate vs SAT/ACT Scores Correlation Heatmap',\n",
    "                  fontdict={'fontsize':15},\n",
    "                  pad=16);"
   ]
  },
  {
   "cell_type": "code",
   "execution_count": 82,
   "metadata": {},
   "outputs": [
    {
     "data": {
      "image/png": "[encoded data removed]",
      "text/plain": [
       "<Figure size 720x432 with 2 Axes>"
      ]
     },
     "metadata": {},
     "output_type": "display_data"
    }
   ],
   "source": [
    "# Correlation Heatmap for SAT/ACT Test scores & Student retention rate by state for 2018-19\n",
    "plt.figure(figsize=(10, 6))\n",
    "sns.set(font_scale=1.5)\n",
    "\n",
    "mask = np.triu(np.ones_like(df2018enrollstate.corr()))   # define the mask to set the values in the upper triangle to True\n",
    "\n",
    "heatmap = sns.heatmap(df2018enrollstate.corr(),\n",
    "                      mask=mask,\n",
    "                      vmin=-1,\n",
    "                      vmax=1,\n",
    "                      annot=True,\n",
    "                      cmap='coolwarm')\n",
    "\n",
    "heatmap.set_title('2018-19 Student Retention Rate vs SAT/ACT Scores Correlation Heatmap',\n",
    "                  fontdict={'fontsize':15},\n",
    "                  pad=16);"
   ]
  },
  {
   "cell_type": "code",
   "execution_count": 83,
   "metadata": {},
   "outputs": [
    {
     "data": {
      "image/png": "[encoded data removed]",
      "text/plain": [
       "<Figure size 360x360 with 1 Axes>"
      ]
     },
     "metadata": {},
     "output_type": "display_data"
    },
    {
     "data": {
      "image/png": "[encoded data removed]",
      "text/plain": [
       "<Figure size 360x360 with 1 Axes>"
      ]
     },
     "metadata": {},
     "output_type": "display_data"
    }
   ],
   "source": [
    "# Correlation scatter plot between test scores & retention rate - 2019\n",
    "sns.set(font_scale = 1.2)\n",
    "sns.set_style('whitegrid')\n",
    "\n",
    "sns.lmplot(data=df2019enrollstate,x=\"sat_mid_score\", y=\"retention_rate_ave\", ci=80); # SAT mid score vs retention rate average\n",
    "plt.xlabel(\"SAT median score by state\", fontsize = 13)\n",
    "plt.ylabel(\"Student Retention rate by state\", fontsize = 13);\n",
    "plt.title(f'Student Retention Rate against SAT Median Score - 2019', fontsize = 13);\n",
    "\n",
    "sns.lmplot(data=df2019enrollstate,x=\"act_mid_score\", y=\"retention_rate_ave\", ci=80); # ACT mid score vs retention rate average\n",
    "plt.xlabel(\"ACT median score by state\", fontsize = 13)\n",
    "plt.ylabel(\"Student Retention rate by state\", fontsize = 13);\n",
    "plt.title(f'Student Retention Rate against ACT Median Score - 2019', fontsize = 13);"
   ]
  },
  {
   "cell_type": "markdown",
   "metadata": {},
   "source": [
    "There is a weak positive correlation between test scores & retention rate for 2019-20"
   ]
  },
  {
   "cell_type": "code",
   "execution_count": 84,
   "metadata": {},
   "outputs": [
    {
     "data": {
      "image/png": "[encoded data removed]",
      "text/plain": [
       "<Figure size 360x360 with 1 Axes>"
      ]
     },
     "metadata": {},
     "output_type": "display_data"
    },
    {
     "data": {
      "image/png": "[encoded data removed]",
      "text/plain": [
       "<Figure size 360x360 with 1 Axes>"
      ]
     },
     "metadata": {},
     "output_type": "display_data"
    }
   ],
   "source": [
    "# Correlation scatter plot between test scores & retention rate - 2018\n",
    "sns.set(font_scale = 1.2)\n",
    "sns.set_style('whitegrid')\n",
    "\n",
    "\n",
    "sns.lmplot(data=df2018enrollstate,x=\"sat_mid_score\", y=\"retention_rate_ave\", ci=80);   # SAT mid score vs retention rate average\n",
    "plt.xlabel(\"SAT median score by state\", fontsize = 13)\n",
    "plt.ylabel(\"Student Retention rate by state\", fontsize = 13);\n",
    "plt.title(f'Student Retention Rate against SAT Median Score - 2018', fontsize = 13);\n",
    "\n",
    "sns.lmplot(data=df2018enrollstate,x=\"act_mid_score\", y=\"retention_rate_ave\", ci=80);   # ACT mid score vs retention rate average\n",
    "plt.xlabel(\"ACT median score by state\", fontsize = 13)\n",
    "plt.ylabel(\"Student Retention rate by state\", fontsize = 13);\n",
    "plt.title(f'Student Retention Rate against ACT Median Score - 2018', fontsize = 13);"
   ]
  },
  {
   "cell_type": "markdown",
   "metadata": {},
   "source": [
    "There is a weak positive correlation between test scores & retention rate for 2018-19"
   ]
  },
  {
   "cell_type": "markdown",
   "metadata": {},
   "source": [
    "1. States that performed well in SAT usually perform well in ACT. The positive correlation between SAT mid score & ACT mid score is high\n",
    "2. The correlation between retention rate & SAT/ACT scores is a weak positive relationship (Correlation is less than 0.50.) The higher the scores, the higher the retention rate to a small extent.\n",
    "3. Even so, the states that performed well in SAT/ACT usually have a higher student retention rate (80% of the top 15 states have a retention rate higher than the national average)"
   ]
  },
  {
   "cell_type": "markdown",
   "metadata": {},
   "source": [
    "### Analysis - Acceptance Rate vs Number of Applicants by College"
   ]
  },
  {
   "cell_type": "code",
   "execution_count": 85,
   "metadata": {},
   "outputs": [
    {
     "data": {
      "text/html": [
       "<div>\n",
       "<style scoped>\n",
       "    .dataframe tbody tr th:only-of-type {\n",
       "        vertical-align: middle;\n",
       "    }\n",
       "\n",
       "    .dataframe tbody tr th {\n",
       "        vertical-align: top;\n",
       "    }\n",
       "\n",
       "    .dataframe thead th {\n",
       "        text-align: right;\n",
       "    }\n",
       "</style>\n",
       "<table border=\"1\" class=\"dataframe\">\n",
       "  <thead>\n",
       "    <tr style=\"text-align: right;\">\n",
       "      <th></th>\n",
       "      <th>school</th>\n",
       "      <th>test optional?</th>\n",
       "      <th>number of applicants</th>\n",
       "      <th>accept rate</th>\n",
       "    </tr>\n",
       "  </thead>\n",
       "  <tbody>\n",
       "    <tr>\n",
       "      <th>count</th>\n",
       "      <td>416</td>\n",
       "      <td>416</td>\n",
       "      <td>416.000000</td>\n",
       "      <td>416.000000</td>\n",
       "    </tr>\n",
       "    <tr>\n",
       "      <th>unique</th>\n",
       "      <td>416</td>\n",
       "      <td>2</td>\n",
       "      <td>NaN</td>\n",
       "      <td>NaN</td>\n",
       "    </tr>\n",
       "    <tr>\n",
       "      <th>top</th>\n",
       "      <td>Stanford University</td>\n",
       "      <td>Yes</td>\n",
       "      <td>NaN</td>\n",
       "      <td>NaN</td>\n",
       "    </tr>\n",
       "    <tr>\n",
       "      <th>freq</th>\n",
       "      <td>1</td>\n",
       "      <td>390</td>\n",
       "      <td>NaN</td>\n",
       "      <td>NaN</td>\n",
       "    </tr>\n",
       "    <tr>\n",
       "      <th>mean</th>\n",
       "      <td>NaN</td>\n",
       "      <td>NaN</td>\n",
       "      <td>17481.759615</td>\n",
       "      <td>0.557034</td>\n",
       "    </tr>\n",
       "    <tr>\n",
       "      <th>std</th>\n",
       "      <td>NaN</td>\n",
       "      <td>NaN</td>\n",
       "      <td>17447.621897</td>\n",
       "      <td>0.242117</td>\n",
       "    </tr>\n",
       "    <tr>\n",
       "      <th>min</th>\n",
       "      <td>NaN</td>\n",
       "      <td>NaN</td>\n",
       "      <td>211.000000</td>\n",
       "      <td>0.043000</td>\n",
       "    </tr>\n",
       "    <tr>\n",
       "      <th>25%</th>\n",
       "      <td>NaN</td>\n",
       "      <td>NaN</td>\n",
       "      <td>5313.000000</td>\n",
       "      <td>0.376250</td>\n",
       "    </tr>\n",
       "    <tr>\n",
       "      <th>50%</th>\n",
       "      <td>NaN</td>\n",
       "      <td>NaN</td>\n",
       "      <td>11622.000000</td>\n",
       "      <td>0.613000</td>\n",
       "    </tr>\n",
       "    <tr>\n",
       "      <th>75%</th>\n",
       "      <td>NaN</td>\n",
       "      <td>NaN</td>\n",
       "      <td>23599.750000</td>\n",
       "      <td>0.742250</td>\n",
       "    </tr>\n",
       "    <tr>\n",
       "      <th>max</th>\n",
       "      <td>NaN</td>\n",
       "      <td>NaN</td>\n",
       "      <td>111322.000000</td>\n",
       "      <td>0.999000</td>\n",
       "    </tr>\n",
       "  </tbody>\n",
       "</table>\n",
       "</div>"
      ],
      "text/plain": [
       "                     school test optional?  number of applicants  accept rate\n",
       "count                   416            416            416.000000   416.000000\n",
       "unique                  416              2                   NaN          NaN\n",
       "top     Stanford University            Yes                   NaN          NaN\n",
       "freq                      1            390                   NaN          NaN\n",
       "mean                    NaN            NaN          17481.759615     0.557034\n",
       "std                     NaN            NaN          17447.621897     0.242117\n",
       "min                     NaN            NaN            211.000000     0.043000\n",
       "25%                     NaN            NaN           5313.000000     0.376250\n",
       "50%                     NaN            NaN          11622.000000     0.613000\n",
       "75%                     NaN            NaN          23599.750000     0.742250\n",
       "max                     NaN            NaN         111322.000000     0.999000"
      ]
     },
     "execution_count": 85,
     "metadata": {},
     "output_type": "execute_result"
    }
   ],
   "source": [
    "dfsatactbycollege.describe(include='all')"
   ]
  },
  {
   "cell_type": "code",
   "execution_count": 86,
   "metadata": {},
   "outputs": [],
   "source": [
    "# create temporary dataframes that only shows data of colleges that still mandate SAT/ACT as admission criteria and vice versa\n",
    "\n",
    "dfcollege_test_mandatory = dfsatactbycollege.loc[dfsatactbycollege['test optional?'] == 'No', :]\n",
    "dfcollege_test_optional = dfsatactbycollege.loc[dfsatactbycollege['test optional?'] == 'Yes', :]"
   ]
  },
  {
   "cell_type": "code",
   "execution_count": 87,
   "metadata": {},
   "outputs": [
    {
     "data": {
      "image/png": "[encoded data removed]",
      "text/plain": [
       "<Figure size 576x360 with 1 Axes>"
      ]
     },
     "metadata": {},
     "output_type": "display_data"
    }
   ],
   "source": [
    "# View out the outliers for No. of applicants amongst US colleges\n",
    "sns.set(rc={\"figure.figsize\":(8,5)})\n",
    "sns.set(font_scale=1.1)\n",
    "sns.set_style('whitegrid')\n",
    "\n",
    "sns.boxplot(x=dfsatactbycollege['number of applicants']);\n",
    "plt.title(f'Number of Applicants boxplot', fontsize = 13);"
   ]
  },
  {
   "cell_type": "markdown",
   "metadata": {},
   "source": [
    "The general higher limit of number of applicants by college is 50,000. To be used for the chart scaling later."
   ]
  },
  {
   "cell_type": "code",
   "execution_count": 88,
   "metadata": {},
   "outputs": [
    {
     "data": {
      "image/png": "[encoded data removed]",
      "text/plain": [
       "<Figure size 576x432 with 2 Axes>"
      ]
     },
     "metadata": {},
     "output_type": "display_data"
    }
   ],
   "source": [
    "# Correlation heatmap for No. of applicants & Acceptance rate, given that SAT/ACT is mandatory\n",
    "plt.figure(figsize=(8,6))\n",
    "sns.set(font_scale=1.5)\n",
    "\n",
    "mask = np.triu(np.ones_like(dfcollege_test_mandatory.corr()))    # define the mask to set the values in the upper triangle to True\n",
    "\n",
    "heatmap = sns.heatmap(dfcollege_test_mandatory.corr(), \n",
    "                      mask=mask, \n",
    "                      vmin=-1, \n",
    "                      vmax=1, \n",
    "                      annot=True, \n",
    "                      cmap='coolwarm')\n",
    "\n",
    "heatmap.set_title('How correlated is no. of applicants to acceptance rate if SAT/ACT become mandatory',\n",
    "                  fontdict={'fontsize':15},\n",
    "                  pad=10);"
   ]
  },
  {
   "cell_type": "code",
   "execution_count": 89,
   "metadata": {},
   "outputs": [
    {
     "data": {
      "image/png": "[encoded data removed]",
      "text/plain": [
       "<Figure size 576x432 with 2 Axes>"
      ]
     },
     "metadata": {},
     "output_type": "display_data"
    }
   ],
   "source": [
    "# Correlation heatmap\n",
    "plt.figure(figsize=(8, 6))\n",
    "sns.set(font_scale=1.5)\n",
    "mask = np.triu(np.ones_like(dfcollege_test_optional.corr()))    # define the mask to set the values in the upper triangle to True\n",
    "\n",
    "heatmap = sns.heatmap(dfcollege_test_optional.corr(), \n",
    "                      mask=mask, \n",
    "                      vmin=-1, \n",
    "                      vmax=1, \n",
    "                      annot=True, \n",
    "                      cmap='coolwarm')\n",
    "\n",
    "heatmap.set_title('How correlated is no. of applicants to acceptance rate if SAT/ACT become optional',\n",
    "                  fontdict={'fontsize':15},\n",
    "                  pad=16);"
   ]
  },
  {
   "cell_type": "code",
   "execution_count": 90,
   "metadata": {},
   "outputs": [
    {
     "data": {
      "image/png": "[encoded data removed]",
      "text/plain": [
       "<Figure size 2361.25x720 with 1 Axes>"
      ]
     },
     "metadata": {},
     "output_type": "display_data"
    }
   ],
   "source": [
    "# Correlation scatter plot for number of applicants vs acceptance rate\n",
    "# No. of applicants is limited to 50k to exclude out the outliers\n",
    "\n",
    "sns.set(rc={\"figure.figsize\":(25, 25)})\n",
    "sns.set(font_scale=2.5)\n",
    "sns.set_style('whitegrid')\n",
    "plt.rcParams['font.size'] = '25'\n",
    "\n",
    "sns.lmplot(data=dfsatactbycollege,\n",
    "           x=\"number of applicants\", \n",
    "           y=\"accept rate\", \n",
    "           ci=None, \n",
    "           hue=\"test optional?\", \n",
    "           hue_order=[\"No\",\"Yes\"], \n",
    "           aspect=30/10, \n",
    "           height=10).set(xlim=(0, 50000)); \n",
    "\n",
    "plt.title(f'Number of Applicants against Acceptance rate', fontsize = 30);"
   ]
  },
  {
   "cell_type": "markdown",
   "metadata": {},
   "source": [
    "1. Based on the linear regression lines for dataframe under 'test optional? = Yes' & dataframe under 'test optional? = No' above, there is no significant causal relationship on acceptance rate with regards to a mandatory or optional admission test.\n",
    "2. There is a weak negative correlation between number of applicants and acceptance rate, regardless whether SAT/ACT is mandatory or not."
   ]
  },
  {
   "cell_type": "code",
   "execution_count": 91,
   "metadata": {},
   "outputs": [
    {
     "data": {
      "text/plain": [
       "93.75"
      ]
     },
     "execution_count": 91,
     "metadata": {},
     "output_type": "execute_result"
    }
   ],
   "source": [
    "# Calculate % of US colleges that do not mandate SAT/ACT for college admission\n",
    "\n",
    "dfcollege_test_optional['test optional?'].count()/dfsatactbycollege['test optional?'].count() * 100"
   ]
  },
  {
   "cell_type": "code",
   "execution_count": 92,
   "metadata": {},
   "outputs": [
    {
     "data": {
      "image/png": "[encoded data removed]",
      "text/plain": [
       "<Figure size 576x360 with 1 Axes>"
      ]
     },
     "metadata": {},
     "output_type": "display_data"
    }
   ],
   "source": [
    "# How many colleges still implement SAT/ACT as a mandatory admission requirement?\n",
    "plt.figure(figsize = (8,5))\n",
    "sns.set(font_scale = 1.2)\n",
    "sns.set_style('whitegrid')\n",
    "\n",
    "sns.countplot(x='test optional?', \n",
    "              data=dfsatactbycollege);\n",
    "\n",
    "plt.title(f'Generally, 93.75% of US colleges do not require SAT/ACT for college admission');\n",
    "plt.ylabel(\"No. of colleges\", fontsize = 15)\n",
    "plt.xlabel(\"SAT/ACT optional for admission?\", fontsize = 15);"
   ]
  },
  {
   "cell_type": "markdown",
   "metadata": {
    "tags": []
   },
   "source": [
    "## Conclusions and Recommendations"
   ]
  },
  {
   "cell_type": "markdown",
   "metadata": {
    "tags": []
   },
   "source": [
    "### Summary of Findings\n",
    "\n",
    "**Student Retention Rate**\n",
    "\n",
    "Our analysis shows that ACT scores are moderately good indicators to show how well students can cope and continue on with their sophomore year. However, SAT scores are weak indicators for the same purpose.<br>\n",
    "It is good to mention that states with a higher median SAT/ACT score tend to have a higher student retention rate in general.\n",
    "\n",
    "Variable|Correlation with 2019 Retention Rate|Correlation with 2018 Retention Rate|Summary\n",
    "---|---|---|---\n",
    "SAT Score|0.33|0.23|There is a weak positive correlation with Student Retention Rate\n",
    "ACT Score|0.42|0.30|There is a weak to moderate positive correlation with Student Retention Rate\n",
    "\n",
    "\n",
    "**Annual State GDP**\n",
    "\n",
    "Our analysis shows that the relationship between SAT/ACT participation and the general wealth of the state is relatively weak.<br>\n",
    "It is good to point out that 13 states with 100% ACT participation rate fall within the lower spectrum of annual GDP by state. This could be explained by the fact that some of these states made ACT mandatory for students to sit prior to applying for college. For instance, the state of Kentucky ([source](https://education.ky.gov/AA/Assessments/Pages/default.aspx)).\n",
    "\n",
    "Variable|Correlation with Annual State GDP|Summary\n",
    "---|---|---\n",
    "SAT Participation Rate|0.24|There is a weak positive correlation with Annual State GDP\n",
    "ACT Participation Rate|-0.27|There is a weak positive correlation with Annual State GDP\n",
    "\n",
    "\n",
    "**Impact on acceptance rate if SAT/ACT were made mandatory**\n",
    "\n",
    "From our analysis, there is no significant causal relationship on acceptance rate when it comes to SAT/ACT being made mandatory for college admission.<br> The factor that truly affects applicant acceptance rate will be the number of applications received by the college. The higher the number of applications received, the lower the acceptance rate.\n",
    "\n",
    "Variable|Correlation with Acceptance rate|Summary\n",
    "---|---|---\n",
    "Number of Applicants with Mandatory SAT/ACT|-0.22|There is a weak negative correlation with acceptance rate\n",
    "Number of Applicants without Mandatory SAT/ACT|-0.33|There is a weak negative correlation with acceptance rate"
   ]
  },
  {
   "cell_type": "markdown",
   "metadata": {
    "tags": []
   },
   "source": [
    "### Conclusion\n",
    "\n",
    "From our preliminary analysis, SAT & ACT test scores does not have the ability to forecast the likelihood of a student being able to cope with the US college education. There is no strong justification that the retention rate of students will increase due to higher scores that the students had in their SAT or ACT. To add on, the wealth of the state is not a good indicator to gauge the participation rate of SAT/ACT in the state.\n",
    "\n",
    "Further analysis can be done to assess the magnitude of SAT & ACT scores on predicting the student retention rate. For instance, the analysis can be done at college level instead of state level average. We can also analyse the impact that state regulations have on SAT or ACT participation rate."
   ]
  },
  {
   "cell_type": "markdown",
   "metadata": {},
   "source": [
    "### Recommendation\n",
    "\n",
    "From our analysis so far, the college does not need to make SAT & ACT compulsory for college admissions. We recommend that SAT & ACT should be left as an optional admission requirement instead."
   ]
  }
 ],
 "metadata": {
  "anaconda-cloud": {},
  "kernelspec": {
   "display_name": "Python 3 (ipykernel)",
   "language": "python",
   "name": "python3"
  },
  "language_info": {
   "codemirror_mode": {
    "name": "ipython",
    "version": 3
   },
   "file_extension": ".py",
   "mimetype": "text/x-python",
   "name": "python",
   "nbconvert_exporter": "python",
   "pygments_lexer": "ipython3",
   "version": "3.9.12"
  }
 },
 "nbformat": 4,
 "nbformat_minor": 4
}
